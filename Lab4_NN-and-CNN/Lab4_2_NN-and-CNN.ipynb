{
 "cells": [
  {
   "cell_type": "markdown",
   "metadata": {},
   "source": [
    "# **Lab 4.2 NN MLP and CNN**"
   ]
  },
  {
   "cell_type": "code",
   "execution_count": 19,
   "metadata": {},
   "outputs": [],
   "source": [
    "import torch\n",
    "import torch.nn as nn\n",
    "import torch.nn.functional as F\n",
    "from torch.cuda.amp import autocast, GradScaler\n",
    "import torchvision.transforms as transforms\n",
    "from torchvision.datasets import ImageFolder\n",
    "from torch.utils.data import DataLoader,Subset\n",
    "from torch.utils.tensorboard import SummaryWriter\n",
    "import numpy as np\n",
    "import matplotlib.pyplot as plt\n",
    "from tqdm import tqdm\n",
    "\n",
    "from sklearn.model_selection import train_test_split\n",
    "from collections import Counter\n",
    "from mpl_toolkits.axes_grid1 import ImageGrid\n",
    "from datetime import datetime\n"
   ]
  },
  {
   "cell_type": "markdown",
   "metadata": {},
   "source": [
    "Complete the `load_data()` function that loads the image using `ImageFolder()` with the specific `transforms.compose()` provided below.\n",
    "`load_data()` will return `DataLoader()` and print the information about the Dataset.\n",
    "This function must load only a pair of classes from the entire dataset.\n",
    "Please ensure that the final image is in grayscale and has a size of 28x28.\n",
    "\n",
    "`transforms.Compose()` :\n",
    "- `transforms.Resize(32)`\n",
    "- `transforms.ToTensor()`\n",
    "- `transforms.Pad()`\n",
    "- `transforms.RandomRotation(45),`\n",
    "- `transforms.CenterCrop(28)`\n",
    "\n",
    "Resource : [`transforms.Compose()`](https://pytorch.org/vision/main/generated/torchvision.transforms.Compose.html#compose), [`torchvision.transforms v1`](<https://pytorch.org/vision/stable/transforms.html#v1-api-reference:~:text=custom)%20tv_tensor%20type.-,V1%20API%20Reference,-Geometry>)"
   ]
  },
  {
   "cell_type": "code",
   "execution_count": 20,
   "metadata": {},
   "outputs": [],
   "source": [
    "def get_base_dataset(ds):\n",
    "    # ไล่ลึก dataset จริง (ไม่ใช่ Subset)\n",
    "    while hasattr(ds, 'dataset'):\n",
    "        ds = ds.dataset\n",
    "    return ds\n",
    "\n",
    "def show_subset_detail(subset, data_name):\n",
    "    base_ds = get_base_dataset(subset)\n",
    "\n",
    "    # ดึง mapping class_to_idx (ถ้ามี)\n",
    "    if hasattr(base_ds, 'class_to_idx'):\n",
    "        class_map = base_ds.class_to_idx\n",
    "    else:\n",
    "        class_map = {}\n",
    "\n",
    "    # ดึง labels ของ subset ตาม indices\n",
    "    if hasattr(subset, 'indices') and hasattr(base_ds, 'targets'):\n",
    "        targets = [base_ds.targets[i] for i in subset.indices]\n",
    "    elif hasattr(base_ds, 'targets'):\n",
    "        targets = base_ds.targets\n",
    "    elif hasattr(base_ds, 'labels'):\n",
    "        targets = base_ds.labels\n",
    "    else:\n",
    "        targets = []\n",
    "\n",
    "    class_counts = Counter(targets)\n",
    "\n",
    "    print(f\"{data_name} Dataset:\")\n",
    "    for label in sorted(class_counts.keys()):\n",
    "        print(f\"\\tNumber of images in class {label}: {class_counts[label]}\")\n",
    "\n",
    "    print(f\"\\tNumber of {data_name.lower()} samples: {len(subset)}\")"
   ]
  },
  {
   "cell_type": "code",
   "execution_count": 21,
   "metadata": {},
   "outputs": [],
   "source": [
    "def show_img(data_loader):\n",
    "      \n",
    "      images, labels = next(iter(data_loader))\n",
    "\n",
    "      fig = plt.figure(figsize=(10, 10))\n",
    "      plt.style.use('dark_background')\n",
    "\n",
    "      grid = ImageGrid(fig, 111,\n",
    "                        nrows_ncols=(4, 4),  \n",
    "                        axes_pad=0.5,  \n",
    "                        )\n",
    "\n",
    "      for ax, im, lb in zip(grid, images, labels):\n",
    "            im_np = im.permute(1, 2, 0).numpy()\n",
    "            ax.axis('off')\n",
    "            ax.set_title(str(lb.item()))\n",
    "            ax.imshow(im_np, cmap='gray')\n",
    "\n",
    "      plt.show()"
   ]
  },
  {
   "cell_type": "code",
   "execution_count": 22,
   "metadata": {},
   "outputs": [],
   "source": [
    "def load_data(path,class_names):\n",
    "    ### START CODE HERE ###\n",
    "    transform = transforms.Compose([\n",
    "        transforms.Grayscale(num_output_channels=1),\n",
    "        transforms.Pad(20, padding_mode='edge'),\n",
    "        transforms.Resize(32),\n",
    "        transforms.RandomRotation(25, fill=255),\n",
    "        transforms.CenterCrop(28),\n",
    "        transforms.ToTensor(),\n",
    "        transforms.Normalize(mean=[0.5], std=[0.5])\n",
    "    ])\n",
    "\n",
    "    dataset = ImageFolder(root=path, transform=transform)\n",
    "\n",
    "    class_to_idx = dataset.class_to_idx  \n",
    "    selected_class_idxs = [class_to_idx[name] for name in class_names]\n",
    "\n",
    "    indices = [i for i, (_, label) in enumerate(dataset) if label in selected_class_idxs]\n",
    "\n",
    "    filtered_dataset = Subset(dataset, indices)     # สร้าง Subset ของ dataset เฉพาะ 2 คลาสนี้\n",
    "    labels = [dataset.targets[i] for i in indices]  # ดึง label ของ subset สำหรับการแบ่ง train/test\n",
    "\n",
    "    train_idx, test_idx = train_test_split(list(range(len(filtered_dataset))), test_size=0.2, stratify=labels, random_state=42) # แบ่ง train/test โดยใช้ sklearn\n",
    "\n",
    "    train_dataset = Subset(filtered_dataset, train_idx)\n",
    "    test_dataset = Subset(filtered_dataset, test_idx)\n",
    "\n",
    "    train_loader = DataLoader(train_dataset, batch_size=16, shuffle=True)\n",
    "    test_loader = DataLoader(test_dataset, batch_size=16, shuffle=True)\n",
    "\n",
    "    show_subset_detail(train_dataset,\"Train\")\n",
    "    show_subset_detail(test_dataset,\"Test\")\n",
    "    show_img(train_loader)\n",
    "    ### END CODE HERE ###\n",
    "    \n",
    "    return train_loader, test_loader"
   ]
  },
  {
   "cell_type": "markdown",
   "metadata": {},
   "source": [
    "Use your `load_data()` function to load the dataset in the cell below. Then, display the image from the first batch.\n",
    "\n",
    "<details>\n",
    "<summary>\n",
    "<font size=\"3\" color=\"orange\">\n",
    "<b>Expected output</b>\n",
    "</font>\n",
    "</summary>\n",
    "\n",
    "- The output should resemble this, but not be identical\n",
    "\n",
    "```\n",
    "📃Train Dataset:\n",
    "\tNumber of images in class 0: 313\n",
    "\tNumber of images in class 1: 308\n",
    "\tNumber of training samples: 621\n",
    "\n",
    "📃Test Dataset:\n",
    "\tNumber of images in class 0: 75\n",
    "\tNumber of images in class 1: 81\n",
    "\tNumber of testing samples: 156\n",
    "```\n",
    "\n",
    "\n",
    "![image.png](https://github.com/Digital-Image-Processing-Laboratory/Image-Processing-Course-2025/blob/main/Lab4_NN-and-CNN/assets/03.png?raw=true)\n",
    "\n",
    "</details>"
   ]
  },
  {
   "cell_type": "code",
   "execution_count": 23,
   "metadata": {},
   "outputs": [
    {
     "name": "stdout",
     "output_type": "stream",
     "text": [
      "Train Dataset:\n",
      "\tNumber of images in class 0: 310\n",
      "\tNumber of images in class 1: 311\n",
      "\tNumber of train samples: 621\n",
      "Test Dataset:\n",
      "\tNumber of images in class 0: 78\n",
      "\tNumber of images in class 1: 78\n",
      "\tNumber of test samples: 156\n"
     ]
    },
    {
     "data": {
      "image/png": "[encoded data removed]",
      "text/plain": [
       "<Figure size 1000x1000 with 32 Axes>"
      ]
     },
     "metadata": {},
     "output_type": "display_data"
    }
   ],
   "source": [
    "### START CODE HERE ###\n",
    "class_names = [f'{x}' for x in range(2)]\n",
    "train_loader, test_loader = load_data('thai-handwriting-number.appspot.com',class_names)\n",
    "\n",
    "### END CODE HERE ###"
   ]
  },
  {
   "cell_type": "markdown",
   "metadata": {},
   "source": [
    "**Create Models**\n",
    "1. **NN (Neural Network)**:\n",
    "- **Input**: 28x28 grayscale images (1 channel)\n",
    "- **Architecture**: Single fully connected layer with sigmoid activation\n",
    "- **Output**: Single neuron output with sigmoid activation\n",
    "- **Description**: This is a simple feedforward neural network with a single fully connected layer. It takes input images, flattens them, passes through a fully connected layer, and applies sigmoid activation to produce the output.\n",
    "\n",
    "2. **MLP (Multi-Layer Perceptron)**:\n",
    "- **Input**: 28x28 grayscale images (1 channel)\n",
    "- **Architecture**: Two fully connected layers with sigmoid activations\n",
    "- **Output**: Single neuron output with sigmoid activation\n",
    "- **Description**: This is a multi-layer perceptron with two fully connected layers. After flattening the input images, it passes through the first fully connected layer with sigmoid activation, followed by the second fully connected layer with sigmoid activation, producing the output.\n",
    "\n",
    "3. **CNN (Convolutional Neural Network)**:\n",
    "- **Input**: 28x28 grayscale images (1 channel)\n",
    "- **Architecture**: Two convolutional layers with ReLU activations, followed by two fully connected layers with ReLU activations\n",
    "- **Output**: Single neuron output with sigmoid activation\n",
    "- **Description**: This is a convolutional neural network with two convolutional layers followed by two fully connected layers. It applies convolutional operations with ReLU activations, followed by flattening the output and passing through fully connected layers with ReLU activations. Finally, it produces a single neuron output with sigmoid activation.\n",
    "\n",
    "\n",
    "Every model should have a `get_features()` method that returns the result from all layers."
   ]
  },
  {
   "cell_type": "markdown",
   "metadata": {},
   "source": [
    "# **The Model**"
   ]
  },
  {
   "cell_type": "code",
   "execution_count": 24,
   "metadata": {},
   "outputs": [],
   "source": [
    "### START CODE HERE ###\n",
    "\n",
    "class NN(nn.Module):\n",
    "    def __init__(self):\n",
    "        super(NN, self).__init__()\n",
    "\n",
    "        self.flatten = nn.Flatten()\n",
    "        self.fc = nn.Linear(28*28,1)\n",
    "        self.sigmoid = nn.Sigmoid()\n",
    "\n",
    "    def get_features(self, x):\n",
    "\n",
    "        features = {}\n",
    "\n",
    "        print(x.shape)\n",
    "        features['ori'] = x.detach().cpu()\n",
    "\n",
    "        x = self.flatten(x)\n",
    "        print(x.shape)\n",
    "        features['flatten'] = x.detach().cpu()\n",
    "        \n",
    "        x = self.fc(x)\n",
    "        print(x.shape)\n",
    "        features['fc'] = x.detach().cpu()\n",
    "        print(f\"FC values: min={x.detach().cpu().min():.3f}, max={x.detach().cpu().max():.3f}\")\n",
    "\n",
    "        x = self.sigmoid(x)\n",
    "        print(x.shape)\n",
    "        features['sigmoid'] = x.detach().cpu()\n",
    "        print(f\"sigmoid values: min={x.detach().cpu().min():.3f}, max={x.detach().cpu().max():.3f}\")\n",
    "\n",
    "        return features\n",
    "\n",
    "    def forward(self, x):\n",
    "        x = self.flatten(x)\n",
    "        x = self.fc(x)\n",
    "        x = self.sigmoid(x)\n",
    "        return x\n",
    "    \n",
    "class MLP(nn.Module):\n",
    "    def __init__(self):\n",
    "        super(MLP, self).__init__()\n",
    "        \n",
    "        self.flatten = nn.Flatten()\n",
    "        self.fc1 = nn.Linear(28 * 28, 48)      # ชั้นที่ 1\n",
    "        self.sigmoid1 = nn.Sigmoid()\n",
    "        self.fc2 = nn.Linear(48, 1)            # ชั้นที่ 2 (output)\n",
    "        self.sigmoid2 = nn.Sigmoid()\n",
    "        \n",
    "    def get_features(self, x):\n",
    "        features = {}\n",
    "        \n",
    "        features['input'] = x.detach().cpu()\n",
    "        \n",
    "        x = self.flatten(x)\n",
    "        features['flatten'] = x.detach().cpu()\n",
    "        \n",
    "        x = self.fc1(x)\n",
    "        features['fc1'] = x.detach().cpu()\n",
    "        \n",
    "        x = self.sigmoid1(x)\n",
    "        features['sigmoid1'] = x.detach().cpu()\n",
    "        \n",
    "        x = self.fc2(x)\n",
    "        features['fc2'] = x.detach().cpu()\n",
    "        \n",
    "        x = self.sigmoid2(x)\n",
    "        features['sigmoid2'] = x.detach().cpu()\n",
    "        \n",
    "        return features\n",
    "\n",
    "    def forward(self, x):\n",
    "        x = self.flatten(x)\n",
    "        x = self.fc1(x)\n",
    "        x = self.sigmoid1(x)\n",
    "        x = self.fc2(x)\n",
    "        x = self.sigmoid2(x)\n",
    "        return x\n",
    "    \n",
    "class CNN(nn.Module):\n",
    "    def __init__(self):\n",
    "        super(CNN, self).__init__()\n",
    "\n",
    "        # Convolutional layers\n",
    "        self.conv1 = nn.Conv2d(1, 16, kernel_size=3, padding=1)  # (1 input channel → 16 filters)\n",
    "        self.conv2 = nn.Conv2d(16, 32, kernel_size=3, padding=1) # (16 → 32 filters)\n",
    "\n",
    "        self.pool = nn.MaxPool2d(2, 2)  # reduce spatial size\n",
    "\n",
    "        # Fully connected layers\n",
    "        self.fc1 = nn.Linear(32 * 7 * 7, 128)  # Flattened after pooling\n",
    "        self.fc2 = nn.Linear(128, 1)\n",
    "\n",
    "        self.sigmoid = nn.Sigmoid()\n",
    "\n",
    "    def get_features(self, x):\n",
    "        features = {}\n",
    "\n",
    "        features['input'] = x.detach().cpu()\n",
    "\n",
    "        x = self.conv1(x)\n",
    "        features['conv1'] = x.detach().cpu()\n",
    "        x = F.relu(x)\n",
    "\n",
    "        x = self.pool(x)\n",
    "        features['pool1'] = x.detach().cpu()\n",
    "\n",
    "        x = self.conv2(x)\n",
    "        features['conv2'] = x.detach().cpu()\n",
    "        x = F.relu(x)\n",
    "\n",
    "        x = self.pool(x)\n",
    "        features['pool2'] = x.detach().cpu()\n",
    "\n",
    "        x = x.view(x.size(0), -1)  # Flatten\n",
    "        features['flatten'] = x.detach().cpu()\n",
    "\n",
    "        x = self.fc1(x)\n",
    "        features['fc1'] = x.detach().cpu()\n",
    "        x = F.relu(x)\n",
    "\n",
    "        x = self.fc2(x)\n",
    "        features['fc2'] = x.detach().cpu()\n",
    "\n",
    "        x = self.sigmoid(x)\n",
    "        features['output'] = x.detach().cpu()\n",
    "\n",
    "        return features\n",
    "\n",
    "    def forward(self, x):\n",
    "        x = F.relu(self.conv1(x))\n",
    "        x = self.pool(x)\n",
    "        x = F.relu(self.conv2(x))\n",
    "        x = self.pool(x)\n",
    "        x = x.view(x.size(0), -1)  # Flatten\n",
    "        x = F.relu(self.fc1(x))\n",
    "        x = self.fc2(x)\n",
    "        x = self.sigmoid(x)\n",
    "        return x\n",
    "\n",
    "### END CODE HERE ###"
   ]
  },
  {
   "cell_type": "markdown",
   "metadata": {},
   "source": [
    "Complete the function below. This function will be used to display the feature map from the models at every epoch on TensorBoard.\n",
    "\n",
    "<details>\n",
    "<summary>\n",
    "<font size=\"3\" color=\"orange\">\n",
    "<b>Expected output that will be display on TensorBoard</b>\n",
    "</font>\n",
    "</summary>\n",
    "\n",
    "- The output should resemble this, but not be identical\n",
    "- `NN()`<br>\n",
    "![image.png](https://github.com/Digital-Image-Processing-Laboratory/Image-Processing-Course-2025/blob/main/Lab4_NN-and-CNN/assets/04.png?raw=true)\n",
    "- `MLP()`<br>\n",
    "![image-2.png](https://github.com/Digital-Image-Processing-Laboratory/Image-Processing-Course-2025/blob/main/Lab4_NN-and-CNN/assets/05.png?raw=true)\n",
    "- `CNN()`<br>\n",
    "![image-3.png](https://github.com/Digital-Image-Processing-Laboratory/Image-Processing-Course-2025/blob/main/Lab4_NN-and-CNN/assets/06.png?raw=true)\n",
    "</details>"
   ]
  },
  {
   "cell_type": "code",
   "execution_count": 25,
   "metadata": {},
   "outputs": [],
   "source": [
    "def show_featuremaps(features):\n",
    "    ### START CODE HERE ###\n",
    "    fig, axs = plt.subplots(1, len(features), figsize=(len(features)*3, 4))\n",
    "    plt.style.use('dark_background')\n",
    "\n",
    "    for ax, (name, feat) in zip(axs, features.items()):\n",
    "        f = feat[0].cpu().numpy()  # ใช้ sample แรก\n",
    "        print(f.ndim, f.shape[0])\n",
    "\n",
    "        if f.ndim == 3:\n",
    "            # รูปภาพต้นฉบับ (C, H, W)\n",
    "            if f.shape[0] == 1:\n",
    "                f = f[0]  # ถ้าเป็น grayscale\n",
    "                ax.imshow(f)\n",
    "            else:\n",
    "                channels = []\n",
    "                for i in range(f.shape[0]):  # วนลูป 16 channels\n",
    "                    channels.append(f[i])  # เอาแต่ละ channel (28, 28)\n",
    "                # ต่อกันแนวตั้ง (stack vertically)\n",
    "                f_stacked = np.vstack(channels)  # (16*28, 28) = (448, 28)\n",
    "                ax.imshow(f_stacked)\n",
    "\n",
    "        elif f.ndim == 1:\n",
    "            if f.shape[0] > 1:\n",
    "                ax.imshow(f.reshape(-1, 1), aspect='auto')\n",
    "            else:\n",
    "                f_display = np.array([[f.item()]])\n",
    "                ax.imshow(f_display, aspect='auto', vmin=0, vmax=1)\n",
    "\n",
    "        ax.set_title(name)\n",
    "        ax.axis('off')\n",
    "    return fig"
   ]
  },
  {
   "cell_type": "code",
   "execution_count": 26,
   "metadata": {},
   "outputs": [
    {
     "name": "stdout",
     "output_type": "stream",
     "text": [
      "torch.Size([16, 1, 28, 28])\n",
      "torch.Size([16, 784])\n",
      "torch.Size([16, 1])\n",
      "FC values: min=0.102, max=0.694\n",
      "torch.Size([16, 1])\n",
      "sigmoid values: min=0.525, max=0.667\n",
      "3 1\n",
      "1 784\n",
      "1 1\n",
      "1 1\n"
     ]
    },
    {
     "data": {
      "image/png": "[encoded data removed]",
      "text/plain": [
       "<Figure size 1200x400 with 4 Axes>"
      ]
     },
     "metadata": {},
     "output_type": "display_data"
    }
   ],
   "source": [
    "nn_model = NN()\n",
    "data_iter = iter(train_loader)\n",
    "input_tensor, _ = next(data_iter)\n",
    "output= nn_model(input_tensor)\n",
    "features = nn_model.get_features(input_tensor) \n",
    "fig = show_featuremaps(features)\n",
    "plt.show() "
   ]
  },
  {
   "cell_type": "code",
   "execution_count": 27,
   "metadata": {},
   "outputs": [
    {
     "name": "stdout",
     "output_type": "stream",
     "text": [
      "3 1\n",
      "1 784\n",
      "1 48\n",
      "1 48\n",
      "1 1\n",
      "1 1\n"
     ]
    },
    {
     "data": {
      "image/png": "[encoded data removed]",
      "text/plain": [
       "<Figure size 1800x400 with 6 Axes>"
      ]
     },
     "metadata": {},
     "output_type": "display_data"
    }
   ],
   "source": [
    "mlp_model = MLP()\n",
    "data_iter = iter(train_loader)\n",
    "input_tensor, _ = next(data_iter)\n",
    "output= mlp_model(input_tensor)\n",
    "features = mlp_model.get_features(input_tensor) \n",
    "fig = show_featuremaps(features)\n",
    "plt.show() "
   ]
  },
  {
   "cell_type": "code",
   "execution_count": 28,
   "metadata": {},
   "outputs": [
    {
     "name": "stdout",
     "output_type": "stream",
     "text": [
      "3 1\n",
      "3 16\n",
      "3 16\n",
      "3 32\n",
      "3 32\n",
      "1 1568\n",
      "1 128\n",
      "1 1\n",
      "1 1\n"
     ]
    },
    {
     "data": {
      "image/png": "[encoded data removed]",
      "text/plain": [
       "<Figure size 2700x400 with 9 Axes>"
      ]
     },
     "metadata": {},
     "output_type": "display_data"
    }
   ],
   "source": [
    "cnn_model = CNN()\n",
    "data_iter = iter(train_loader)\n",
    "input_tensor, _ = next(data_iter)\n",
    "output= cnn_model(input_tensor)\n",
    "features = cnn_model.get_features(input_tensor) \n",
    "fig = show_featuremaps(features)\n",
    "plt.show() "
   ]
  },
  {
   "cell_type": "markdown",
   "metadata": {},
   "source": [
    "TensorBoard 101\n",
    "\n",
    "Complete the `train()` function in the cell below. This function should evaluate the model at every epoch, log the training loss/accuracy, test loss/accuracy, and display the feature map from all layers of the model at every epoch on TensorBoard. Additionally, it should save the model at the last epoch.\n",
    "\n",
    "Resource : [PyTorch Training loop](<https://pytorch.org/tutorials/beginner/introyt/trainingyt.html#:~:text=%3D0.9)-,The%20Training%20Loop,-Below%2C%20we%20have>), [TensorBoard](https://pytorch.org/docs/stable/tensorboard.html)\n",
    "\n",
    "<details>\n",
    "<summary>\n",
    "<font size=\"3\" color=\"orange\">\n",
    "<b>Expected output that will be display on TensorBoard</b>\n",
    "</font>\n",
    "</summary>\n",
    "\n",
    "- The output should resemble this, but not be identical\n",
    "\n",
    "![image.png](https://github.com/Digital-Image-Processing-Laboratory/Image-Processing-Course-2025/blob/main/Lab4_NN-and-CNN/assets/07.png?raw=true)\n",
    "\n",
    "![image-2.png](https://github.com/Digital-Image-Processing-Laboratory/Image-Processing-Course-2025/blob/main/Lab4_NN-and-CNN/assets/08.png?raw=true)\n",
    "</details>"
   ]
  },
  {
   "cell_type": "code",
   "execution_count": 47,
   "metadata": {},
   "outputs": [],
   "source": [
    "def train(class_names,model,opt,loss_fn,train_loader,test_loader,epochs=10,writer=None,checkpoint_path=None,device='cpu'):\n",
    "    ### START CODE HERE ###\n",
    "\n",
    "    timestamp = datetime.now().strftime('%Y%m%d_%H%M%S')\n",
    "    print(f\"😎✨ Training on {timestamp} \", device)\n",
    "    \n",
    "    model = model.to(device)\n",
    "    history = {\n",
    "        'train_loss':[],\n",
    "        'train_acc':[],\n",
    "        'test_loss':[],\n",
    "        'test_acc':[]\n",
    "    }\n",
    "\n",
    "    for epoch in range(epochs):\n",
    "        model.train()\n",
    "        train_bar = tqdm(train_loader, desc=f'Training Epoch [{epoch+1}/{epochs}]', unit='batch')\n",
    "\n",
    "        total_train_loss = 0\n",
    "        total_train_correct = 0\n",
    "\n",
    "        for images, labels in train_bar:\n",
    "            images = images.to(device)\n",
    "            labels = labels.to(device)\n",
    "            labels = labels.float().unsqueeze(1)\n",
    "            # print(\"label\")\n",
    "            # print(labels)\n",
    "\n",
    "            opt.zero_grad()\n",
    "            output = model(images)\n",
    "            loss = loss_fn(output, labels)\n",
    "            loss.backward()\n",
    "            opt.step()\n",
    "            # print(\"output\")\n",
    "            # print(output)\n",
    "            \n",
    "            total_train_loss += loss.item()\n",
    "            predicted = (output > 0.6).long()  # output เป็น sigmoid -> 0~1\n",
    "            total_train_correct += (predicted == labels).sum().item()\n",
    "\n",
    "            # print(\"predicted\")\n",
    "            # print(predicted)\n",
    "\n",
    "            train_bar.set_postfix(loss=loss.item())\n",
    "            \n",
    "        print(\"output: \",output.squeeze().tolist())\n",
    "        print(\"Predicted: \", predicted.squeeze().tolist())\n",
    "        print(\"Label:     \", labels.squeeze().long().tolist())\n",
    "        \n",
    "        avg_train_loss = total_train_loss/len(train_loader)\n",
    "        avg_train_acc = total_train_correct/len(train_loader.dataset)\n",
    "        \n",
    "        history['train_loss'].append(avg_train_loss)\n",
    "        history['train_acc'].append(avg_train_acc)\n",
    "\n",
    "        model.eval()\n",
    "        test_bar = tqdm(test_loader, desc='Testing 🧐🧐', unit='batch')\n",
    "\n",
    "        total_test_loss = 0\n",
    "        total_test_correct = 0\n",
    "\n",
    "        with torch.no_grad():\n",
    "            for images, labels in test_bar:\n",
    "                images = images.to(device)\n",
    "                labels = labels.to(device)\n",
    "                labels = labels.float().unsqueeze(1)\n",
    "\n",
    "                output = model(images)\n",
    "                loss = loss_fn(output, labels)\n",
    "\n",
    "                total_test_loss += loss.item()\n",
    "                predicted = (output > 0.6).long()\n",
    "                total_test_correct += (predicted == labels).sum().item()\n",
    "\n",
    "                test_bar.set_postfix(loss=loss.item())\n",
    "        \n",
    "        avg_test_loss = total_test_loss / len(test_loader)\n",
    "        avg_test_acc = total_test_correct / len(test_loader.dataset)\n",
    "\n",
    "        history['test_loss'].append(avg_test_loss)\n",
    "        history['test_acc'].append(avg_test_acc)\n",
    "\n",
    "        print(f\"Epoch {epoch+1}, Loss: {avg_train_loss:.4f}, Accuracy: {avg_train_acc:.4f}, Test Loss: {avg_test_loss:.4f}, Test Accuracy: {avg_test_acc:.4f}\\n\")\n",
    "\n",
    "        if writer:\n",
    "            print(\"writting\")\n",
    "            writer.add_scalar(\"Loss/train\", avg_train_loss, epoch)\n",
    "            writer.add_scalar(\"Accuracy/train\", avg_train_acc, epoch)\n",
    "            writer.add_scalar(\"Loss/test\", avg_test_loss, epoch)\n",
    "            writer.add_scalar(\"Accuracy/test\", avg_test_acc, epoch)\n",
    "            writer.flush() \n",
    "\n",
    "        if checkpoint_path:\n",
    "            model_path = f\"{checkpoint_path}_epoch_{epoch+1}.pth\"\n",
    "            torch.save(model.state_dict(), model_path)\n",
    "        \n",
    "    writer.close()\n",
    "    return history\n",
    "    \n",
    "\n",
    "    ### END CODE HERE ###"
   ]
  },
  {
   "cell_type": "markdown",
   "metadata": {},
   "source": [
    "Use your `train()` function to train all types of models with all combinations of numbers that you've obtained."
   ]
  },
  {
   "cell_type": "code",
   "execution_count": null,
   "metadata": {},
   "outputs": [
    {
     "name": "stdout",
     "output_type": "stream",
     "text": [
      "Train Dataset:\n",
      "\tNumber of images in class 0: 310\n",
      "\tNumber of images in class 1: 311\n",
      "\tNumber of train samples: 621\n",
      "Test Dataset:\n",
      "\tNumber of images in class 0: 78\n",
      "\tNumber of images in class 1: 78\n",
      "\tNumber of test samples: 156\n"
     ]
    },
    {
     "data": {
      "image/png": "[encoded data removed]",
      "text/plain": [
       "<Figure size 1000x1000 with 32 Axes>"
      ]
     },
     "metadata": {},
     "output_type": "display_data"
    },
    {
     "name": "stdout",
     "output_type": "stream",
     "text": [
      "😎✨ Training on 20250727_165750  cpu\n"
     ]
    },
    {
     "name": "stderr",
     "output_type": "stream",
     "text": [
      "Training Epoch [1/30]: 100%|██████████| 39/39 [00:01<00:00, 26.12batch/s, loss=0.654]\n"
     ]
    },
    {
     "name": "stdout",
     "output_type": "stream",
     "text": [
      "output:  [0.5413651466369629, 0.5209172368049622, 0.5252963900566101, 0.5459650754928589, 0.4756684899330139, 0.5178744196891785, 0.4756684899330139, 0.5208983421325684, 0.5043190717697144, 0.5121455788612366, 0.5275227427482605, 0.5224388837814331, 0.5343570113182068]\n",
      "Predicted:  [0, 0, 0, 0, 0, 0, 0, 0, 0, 0, 0, 0, 0]\n",
      "Label:      [1, 1, 1, 1, 0, 0, 0, 1, 1, 0, 1, 1, 1]\n"
     ]
    },
    {
     "name": "stderr",
     "output_type": "stream",
     "text": [
      "Testing 🧐🧐: 100%|██████████| 10/10 [00:00<00:00, 33.60batch/s, loss=0.658]\n"
     ]
    },
    {
     "name": "stdout",
     "output_type": "stream",
     "text": [
      "Epoch 1, Loss: 0.6890, Accuracy: 0.4992, Test Loss: 0.6700, Test Accuracy: 0.5000\n",
      "\n",
      "writting\n"
     ]
    },
    {
     "name": "stderr",
     "output_type": "stream",
     "text": [
      "Training Epoch [2/30]: 100%|██████████| 39/39 [00:01<00:00, 24.96batch/s, loss=0.583]\n"
     ]
    },
    {
     "name": "stdout",
     "output_type": "stream",
     "text": [
      "output:  [0.5193221569061279, 0.375522255897522, 0.57961505651474, 0.4898606538772583, 0.45677217841148376, 0.6535441875457764, 0.5753961801528931, 0.4100401997566223, 0.7473728656768799, 0.46912112832069397, 0.5904208421707153, 0.5521748065948486, 0.63664311170578]\n",
      "Predicted:  [0, 0, 0, 0, 0, 0, 0, 0, 1, 0, 0, 0, 0]\n",
      "Label:      [1, 0, 0, 0, 1, 1, 1, 0, 1, 1, 1, 1, 1]\n"
     ]
    },
    {
     "name": "stderr",
     "output_type": "stream",
     "text": [
      "Testing 🧐🧐: 100%|██████████| 10/10 [00:00<00:00, 35.71batch/s, loss=0.639]\n"
     ]
    },
    {
     "name": "stdout",
     "output_type": "stream",
     "text": [
      "Epoch 2, Loss: 0.6467, Accuracy: 0.5024, Test Loss: 0.5839, Test Accuracy: 0.5449\n",
      "\n",
      "writting\n"
     ]
    },
    {
     "name": "stderr",
     "output_type": "stream",
     "text": [
      "Training Epoch [3/30]: 100%|██████████| 39/39 [00:01<00:00, 27.25batch/s, loss=0.209]\n"
     ]
    },
    {
     "name": "stdout",
     "output_type": "stream",
     "text": [
      "output:  [0.8570041656494141, 0.7579343914985657, 0.22031822800636292, 0.8584745526313782, 0.9700849652290344, 0.18932093679904938, 0.07687810808420181, 0.7484942674636841, 0.10292864590883255, 0.7221195101737976, 0.1298530548810959, 0.7392733097076416, 0.67048180103302]\n",
      "Predicted:  [1, 1, 0, 1, 1, 0, 0, 1, 0, 1, 0, 1, 0]\n",
      "Label:      [1, 1, 0, 1, 1, 0, 0, 1, 0, 1, 0, 1, 1]\n"
     ]
    },
    {
     "name": "stderr",
     "output_type": "stream",
     "text": [
      "Testing 🧐🧐: 100%|██████████| 10/10 [00:00<00:00, 30.88batch/s, loss=0.217]\n"
     ]
    },
    {
     "name": "stdout",
     "output_type": "stream",
     "text": [
      "Epoch 3, Loss: 0.5065, Accuracy: 0.7085, Test Loss: 0.4941, Test Accuracy: 0.7821\n",
      "\n",
      "writting\n"
     ]
    },
    {
     "name": "stderr",
     "output_type": "stream",
     "text": [
      "Training Epoch [4/30]: 100%|██████████| 39/39 [00:01<00:00, 26.79batch/s, loss=0.495]\n"
     ]
    },
    {
     "name": "stdout",
     "output_type": "stream",
     "text": [
      "output:  [0.7581303715705872, 0.3677418529987335, 0.9890990257263184, 0.06067676842212677, 0.9633365869522095, 0.038411010056734085, 0.49019962549209595, 0.9386062026023865, 0.15847298502922058, 0.8784937858581543, 0.8681997060775757, 0.19576402008533478, 0.588062047958374]\n",
      "Predicted:  [1, 0, 1, 0, 1, 0, 0, 1, 0, 1, 1, 0, 0]\n",
      "Label:      [1, 0, 1, 0, 0, 0, 0, 1, 0, 1, 1, 0, 0]\n"
     ]
    },
    {
     "name": "stderr",
     "output_type": "stream",
     "text": [
      "Testing 🧐🧐: 100%|██████████| 10/10 [00:00<00:00, 30.97batch/s, loss=1.24]\n"
     ]
    },
    {
     "name": "stdout",
     "output_type": "stream",
     "text": [
      "Epoch 4, Loss: 0.4144, Accuracy: 0.7987, Test Loss: 0.4576, Test Accuracy: 0.8013\n",
      "\n",
      "writting\n"
     ]
    },
    {
     "name": "stderr",
     "output_type": "stream",
     "text": [
      "Training Epoch [5/30]: 100%|██████████| 39/39 [00:01<00:00, 26.03batch/s, loss=0.172]\n"
     ]
    },
    {
     "name": "stdout",
     "output_type": "stream",
     "text": [
      "output:  [0.9898228645324707, 0.35711944103240967, 0.13002382218837738, 0.6831698417663574, 0.4115985929965973, 0.834764301776886, 0.05377223342657089, 0.04706744849681854, 0.9289727210998535, 0.9994269609451294, 0.19188295304775238, 0.8671567440032959, 0.9767846465110779]\n",
      "Predicted:  [1, 0, 0, 0, 0, 1, 0, 0, 1, 1, 0, 1, 1]\n",
      "Label:      [1, 0, 0, 1, 0, 1, 0, 0, 1, 1, 0, 1, 1]\n"
     ]
    },
    {
     "name": "stderr",
     "output_type": "stream",
     "text": [
      "Testing 🧐🧐: 100%|██████████| 10/10 [00:00<00:00, 34.27batch/s, loss=0.347]\n"
     ]
    },
    {
     "name": "stdout",
     "output_type": "stream",
     "text": [
      "Epoch 5, Loss: 0.3596, Accuracy: 0.8406, Test Loss: 0.3726, Test Accuracy: 0.8205\n",
      "\n",
      "writting\n"
     ]
    },
    {
     "name": "stderr",
     "output_type": "stream",
     "text": [
      "Training Epoch [6/30]: 100%|██████████| 39/39 [00:01<00:00, 26.91batch/s, loss=0.679]\n"
     ]
    },
    {
     "name": "stdout",
     "output_type": "stream",
     "text": [
      "output:  [0.20170950889587402, 0.9091165065765381, 0.1400514841079712, 0.6962391138076782, 0.4366517663002014, 0.964009165763855, 0.1246638149023056, 0.47554078698158264, 0.7896270751953125, 0.13270410895347595, 0.984454870223999, 0.9833047389984131, 0.40884917974472046]\n",
      "Predicted:  [0, 1, 0, 0, 0, 1, 0, 0, 1, 0, 1, 1, 0]\n",
      "Label:      [1, 1, 0, 1, 0, 1, 1, 1, 1, 1, 1, 1, 1]\n"
     ]
    },
    {
     "name": "stderr",
     "output_type": "stream",
     "text": [
      "Testing 🧐🧐: 100%|██████████| 10/10 [00:00<00:00, 32.41batch/s, loss=0.148]\n"
     ]
    },
    {
     "name": "stdout",
     "output_type": "stream",
     "text": [
      "Epoch 6, Loss: 0.3396, Accuracy: 0.8438, Test Loss: 0.3368, Test Accuracy: 0.8333\n",
      "\n",
      "writting\n"
     ]
    },
    {
     "name": "stderr",
     "output_type": "stream",
     "text": [
      "Training Epoch [7/30]: 100%|██████████| 39/39 [00:01<00:00, 26.36batch/s, loss=0.196]\n"
     ]
    },
    {
     "name": "stdout",
     "output_type": "stream",
     "text": [
      "output:  [0.9097024202346802, 0.14754219353199005, 0.9777371287345886, 0.9897539615631104, 0.01737123727798462, 0.16261622309684753, 0.04122836887836456, 0.9833993911743164, 0.979243814945221, 0.9877507090568542, 0.014801614917814732, 0.02063349261879921, 0.8364033699035645]\n",
      "Predicted:  [1, 0, 1, 1, 0, 0, 0, 1, 1, 1, 0, 0, 1]\n",
      "Label:      [1, 1, 1, 1, 0, 0, 0, 1, 1, 1, 0, 0, 1]\n"
     ]
    },
    {
     "name": "stderr",
     "output_type": "stream",
     "text": [
      "Testing 🧐🧐: 100%|██████████| 10/10 [00:00<00:00, 27.44batch/s, loss=0.672]\n"
     ]
    },
    {
     "name": "stdout",
     "output_type": "stream",
     "text": [
      "Epoch 7, Loss: 0.2923, Accuracy: 0.8696, Test Loss: 0.3432, Test Accuracy: 0.8141\n",
      "\n",
      "writting\n"
     ]
    },
    {
     "name": "stderr",
     "output_type": "stream",
     "text": [
      "Training Epoch [8/30]: 100%|██████████| 39/39 [00:01<00:00, 25.47batch/s, loss=0.101] \n"
     ]
    },
    {
     "name": "stdout",
     "output_type": "stream",
     "text": [
      "output:  [0.7094326019287109, 0.0576934814453125, 0.9839046597480774, 0.9923054575920105, 0.05345965549349785, 0.5813275575637817, 0.9988229870796204, 0.9006760120391846, 0.9649232029914856, 0.9942144751548767, 0.038264039903879166, 0.9819520115852356, 0.0755176991224289]\n",
      "Predicted:  [1, 0, 1, 1, 0, 0, 1, 1, 1, 1, 0, 1, 0]\n",
      "Label:      [1, 0, 1, 1, 0, 1, 1, 1, 1, 1, 0, 1, 0]\n"
     ]
    },
    {
     "name": "stderr",
     "output_type": "stream",
     "text": [
      "Testing 🧐🧐: 100%|██████████| 10/10 [00:00<00:00, 35.94batch/s, loss=0.229]\n"
     ]
    },
    {
     "name": "stdout",
     "output_type": "stream",
     "text": [
      "Epoch 8, Loss: 0.2740, Accuracy: 0.8744, Test Loss: 0.3111, Test Accuracy: 0.8910\n",
      "\n",
      "writting\n"
     ]
    },
    {
     "name": "stderr",
     "output_type": "stream",
     "text": [
      "Training Epoch [9/30]: 100%|██████████| 39/39 [00:01<00:00, 25.87batch/s, loss=0.169] \n"
     ]
    },
    {
     "name": "stdout",
     "output_type": "stream",
     "text": [
      "output:  [0.8704829812049866, 0.999419093132019, 0.08667434006929398, 0.3659525215625763, 0.983356237411499, 0.05461620166897774, 0.16993318498134613, 0.027596507221460342, 0.9856022000312805, 0.2594926953315735, 0.3118496835231781, 0.11703413724899292, 0.33555635809898376]\n",
      "Predicted:  [1, 1, 0, 0, 1, 0, 0, 0, 1, 0, 0, 0, 0]\n",
      "Label:      [1, 1, 0, 0, 1, 0, 0, 0, 1, 0, 0, 0, 0]\n"
     ]
    },
    {
     "name": "stderr",
     "output_type": "stream",
     "text": [
      "Testing 🧐🧐: 100%|██████████| 10/10 [00:00<00:00, 33.29batch/s, loss=0.371]\n"
     ]
    },
    {
     "name": "stdout",
     "output_type": "stream",
     "text": [
      "Epoch 9, Loss: 0.2407, Accuracy: 0.8905, Test Loss: 0.3283, Test Accuracy: 0.8910\n",
      "\n",
      "writting\n"
     ]
    },
    {
     "name": "stderr",
     "output_type": "stream",
     "text": [
      "Training Epoch [10/30]: 100%|██████████| 39/39 [00:01<00:00, 27.43batch/s, loss=0.244] \n"
     ]
    },
    {
     "name": "stdout",
     "output_type": "stream",
     "text": [
      "output:  [0.5061085224151611, 0.992255687713623, 0.6607652902603149, 0.20513124763965607, 0.999678373336792, 0.08251368254423141, 0.11011874675750732, 0.2893286645412445, 0.04747498035430908, 0.982862114906311, 0.09387759864330292, 0.9982203841209412, 0.6430112719535828]\n",
      "Predicted:  [0, 1, 0, 0, 1, 0, 0, 0, 0, 1, 0, 1, 0]\n",
      "Label:      [0, 1, 0, 0, 1, 0, 0, 0, 0, 1, 0, 1, 1]\n"
     ]
    },
    {
     "name": "stderr",
     "output_type": "stream",
     "text": [
      "Testing 🧐🧐: 100%|██████████| 10/10 [00:00<00:00, 30.19batch/s, loss=0.278]\n"
     ]
    },
    {
     "name": "stdout",
     "output_type": "stream",
     "text": [
      "Epoch 10, Loss: 0.2243, Accuracy: 0.8986, Test Loss: 0.2610, Test Accuracy: 0.8974\n",
      "\n",
      "writting\n"
     ]
    },
    {
     "name": "stderr",
     "output_type": "stream",
     "text": [
      "Training Epoch [11/30]: 100%|██████████| 39/39 [00:01<00:00, 25.04batch/s, loss=0.0841]\n"
     ]
    },
    {
     "name": "stdout",
     "output_type": "stream",
     "text": [
      "output:  [0.07913441956043243, 0.05002700909972191, 0.9942025542259216, 0.9402397274971008, 0.08466853201389313, 0.9918234944343567, 0.9969614148139954, 0.9997156262397766, 0.9869230389595032, 0.6287355422973633, 0.021077116951346397, 0.03758397325873375, 0.774734616279602]\n",
      "Predicted:  [0, 0, 1, 1, 0, 1, 1, 1, 1, 0, 0, 0, 1]\n",
      "Label:      [0, 0, 1, 1, 0, 1, 1, 1, 1, 1, 0, 0, 1]\n"
     ]
    },
    {
     "name": "stderr",
     "output_type": "stream",
     "text": [
      "Testing 🧐🧐: 100%|██████████| 10/10 [00:00<00:00, 28.85batch/s, loss=0.102]\n"
     ]
    },
    {
     "name": "stdout",
     "output_type": "stream",
     "text": [
      "Epoch 11, Loss: 0.2037, Accuracy: 0.9050, Test Loss: 0.2599, Test Accuracy: 0.8846\n",
      "\n",
      "writting\n"
     ]
    },
    {
     "name": "stderr",
     "output_type": "stream",
     "text": [
      "Training Epoch [12/30]: 100%|██████████| 39/39 [00:01<00:00, 25.13batch/s, loss=0.0544]\n"
     ]
    },
    {
     "name": "stdout",
     "output_type": "stream",
     "text": [
      "output:  [0.8560269474983215, 0.9997788071632385, 0.9892311692237854, 0.22241029143333435, 0.004472348373383284, 0.9799932837486267, 0.05262173339724541, 0.9755620360374451, 0.10572491586208344, 1.0, 0.06519519537687302, 0.9994655251502991, 0.006552772596478462]\n",
      "Predicted:  [1, 1, 1, 0, 0, 1, 0, 1, 0, 1, 0, 1, 0]\n",
      "Label:      [1, 1, 1, 0, 0, 1, 0, 1, 0, 1, 0, 1, 0]\n"
     ]
    },
    {
     "name": "stderr",
     "output_type": "stream",
     "text": [
      "Testing 🧐🧐: 100%|██████████| 10/10 [00:00<00:00, 30.71batch/s, loss=0.243]\n"
     ]
    },
    {
     "name": "stdout",
     "output_type": "stream",
     "text": [
      "Epoch 12, Loss: 0.2139, Accuracy: 0.9018, Test Loss: 0.2692, Test Accuracy: 0.8974\n",
      "\n",
      "writting\n"
     ]
    },
    {
     "name": "stderr",
     "output_type": "stream",
     "text": [
      "Training Epoch [13/30]: 100%|██████████| 39/39 [00:01<00:00, 29.18batch/s, loss=0.118] \n"
     ]
    },
    {
     "name": "stdout",
     "output_type": "stream",
     "text": [
      "output:  [0.9971362352371216, 0.01697043515741825, 0.994371771812439, 0.999272882938385, 0.9970295429229736, 0.9954549074172974, 0.9999892711639404, 0.4000565707683563, 0.9762804508209229, 0.010671891272068024, 0.9977128505706787, 0.002879548352211714, 0.6135179996490479]\n",
      "Predicted:  [1, 0, 1, 1, 1, 1, 1, 0, 1, 0, 1, 0, 0]\n",
      "Label:      [1, 0, 1, 1, 1, 1, 1, 0, 1, 0, 1, 0, 0]\n"
     ]
    },
    {
     "name": "stderr",
     "output_type": "stream",
     "text": [
      "Testing 🧐🧐: 100%|██████████| 10/10 [00:00<00:00, 29.93batch/s, loss=0.0484]\n"
     ]
    },
    {
     "name": "stdout",
     "output_type": "stream",
     "text": [
      "Epoch 13, Loss: 0.1781, Accuracy: 0.9163, Test Loss: 0.2641, Test Accuracy: 0.9103\n",
      "\n",
      "writting\n"
     ]
    },
    {
     "name": "stderr",
     "output_type": "stream",
     "text": [
      "Training Epoch [14/30]: 100%|██████████| 39/39 [00:01<00:00, 30.15batch/s, loss=0.122]\n"
     ]
    },
    {
     "name": "stdout",
     "output_type": "stream",
     "text": [
      "output:  [0.9941585063934326, 0.0171193927526474, 0.3666802644729614, 0.9994682669639587, 0.010320945642888546, 0.0012142660561949015, 0.003720206208527088, 0.9966086149215698, 0.5326958894729614, 0.9929341077804565, 0.3260445296764374, 0.050778716802597046, 0.0045142024755477905]\n",
      "Predicted:  [1, 0, 0, 1, 0, 0, 0, 1, 0, 1, 0, 0, 0]\n",
      "Label:      [1, 0, 0, 1, 0, 0, 0, 1, 1, 1, 0, 0, 0]\n"
     ]
    },
    {
     "name": "stderr",
     "output_type": "stream",
     "text": [
      "Testing 🧐🧐: 100%|██████████| 10/10 [00:00<00:00, 32.46batch/s, loss=0.191]\n"
     ]
    },
    {
     "name": "stdout",
     "output_type": "stream",
     "text": [
      "Epoch 14, Loss: 0.2367, Accuracy: 0.8937, Test Loss: 0.2633, Test Accuracy: 0.8910\n",
      "\n",
      "writting\n"
     ]
    },
    {
     "name": "stderr",
     "output_type": "stream",
     "text": [
      "Training Epoch [15/30]: 100%|██████████| 39/39 [00:01<00:00, 27.25batch/s, loss=0.069] \n"
     ]
    },
    {
     "name": "stdout",
     "output_type": "stream",
     "text": [
      "output:  [0.007601504679769278, 0.9993436932563782, 0.24300679564476013, 0.9468463659286499, 0.965116024017334, 0.9353554248809814, 0.99992835521698, 0.2584770917892456, 0.01921161822974682, 0.9426077008247375, 0.06923950463533401, 0.9999798536300659, 0.0035598608665168285]\n",
      "Predicted:  [0, 1, 0, 1, 1, 1, 1, 0, 0, 1, 0, 1, 0]\n",
      "Label:      [0, 1, 0, 1, 1, 1, 1, 0, 0, 1, 0, 1, 0]\n"
     ]
    },
    {
     "name": "stderr",
     "output_type": "stream",
     "text": [
      "Testing 🧐🧐: 100%|██████████| 10/10 [00:00<00:00, 35.73batch/s, loss=0.187]\n"
     ]
    },
    {
     "name": "stdout",
     "output_type": "stream",
     "text": [
      "Epoch 15, Loss: 0.1579, Accuracy: 0.9324, Test Loss: 0.2622, Test Accuracy: 0.8654\n",
      "\n",
      "writting\n"
     ]
    },
    {
     "name": "stderr",
     "output_type": "stream",
     "text": [
      "Training Epoch [16/30]: 100%|██████████| 39/39 [00:01<00:00, 31.10batch/s, loss=0.253] \n"
     ]
    },
    {
     "name": "stdout",
     "output_type": "stream",
     "text": [
      "output:  [0.0038125920109450817, 0.9541692733764648, 0.09969630837440491, 0.9993844032287598, 0.9998045563697815, 0.9996739625930786, 0.7579435110092163, 0.0026522912085056305, 0.0005158379208296537, 0.26538532972335815, 0.05422578379511833, 0.013152576051652431, 0.26538529992103577]\n",
      "Predicted:  [0, 1, 0, 1, 1, 1, 1, 0, 0, 0, 0, 0, 0]\n",
      "Label:      [0, 1, 0, 1, 1, 1, 0, 0, 0, 0, 0, 0, 1]\n"
     ]
    },
    {
     "name": "stderr",
     "output_type": "stream",
     "text": [
      "Testing 🧐🧐: 100%|██████████| 10/10 [00:00<00:00, 31.76batch/s, loss=0.251]\n"
     ]
    },
    {
     "name": "stdout",
     "output_type": "stream",
     "text": [
      "Epoch 16, Loss: 0.1839, Accuracy: 0.9066, Test Loss: 0.2952, Test Accuracy: 0.8397\n",
      "\n",
      "writting\n"
     ]
    },
    {
     "name": "stderr",
     "output_type": "stream",
     "text": [
      "Training Epoch [17/30]: 100%|██████████| 39/39 [00:01<00:00, 27.39batch/s, loss=0.0954]\n"
     ]
    },
    {
     "name": "stdout",
     "output_type": "stream",
     "text": [
      "output:  [0.9999969005584717, 0.010474096052348614, 0.5640401244163513, 0.0012606357922777534, 0.9925282001495361, 0.9998670816421509, 0.5912656784057617, 0.9212557077407837, 0.0028378074057400227, 0.022640133276581764, 0.9998664855957031, 0.9998028874397278, 0.014658757485449314]\n",
      "Predicted:  [1, 0, 0, 0, 1, 1, 0, 1, 0, 0, 1, 1, 0]\n",
      "Label:      [1, 0, 1, 0, 1, 1, 1, 1, 0, 0, 1, 1, 0]\n"
     ]
    },
    {
     "name": "stderr",
     "output_type": "stream",
     "text": [
      "Testing 🧐🧐: 100%|██████████| 10/10 [00:00<00:00, 32.97batch/s, loss=0.0475]\n"
     ]
    },
    {
     "name": "stdout",
     "output_type": "stream",
     "text": [
      "Epoch 17, Loss: 0.1503, Accuracy: 0.9259, Test Loss: 0.2401, Test Accuracy: 0.9038\n",
      "\n",
      "writting\n"
     ]
    },
    {
     "name": "stderr",
     "output_type": "stream",
     "text": [
      "Training Epoch [18/30]: 100%|██████████| 39/39 [00:01<00:00, 23.49batch/s, loss=0.098] \n"
     ]
    },
    {
     "name": "stdout",
     "output_type": "stream",
     "text": [
      "output:  [0.46108460426330566, 0.997010350227356, 0.0030795668717473745, 0.9999289512634277, 0.9696034789085388, 0.00042010657489299774, 0.0009228182607330382, 0.07825807482004166, 0.9944738745689392, 0.6677772998809814, 0.9993160963058472, 0.8839340209960938, 0.997841477394104]\n",
      "Predicted:  [0, 1, 0, 1, 1, 0, 0, 0, 1, 0, 1, 1, 1]\n",
      "Label:      [0, 1, 0, 1, 1, 0, 0, 0, 1, 1, 1, 1, 1]\n"
     ]
    },
    {
     "name": "stderr",
     "output_type": "stream",
     "text": [
      "Testing 🧐🧐: 100%|██████████| 10/10 [00:00<00:00, 30.68batch/s, loss=0.332]\n"
     ]
    },
    {
     "name": "stdout",
     "output_type": "stream",
     "text": [
      "Epoch 18, Loss: 0.1462, Accuracy: 0.9243, Test Loss: 0.2775, Test Accuracy: 0.8397\n",
      "\n",
      "writting\n"
     ]
    },
    {
     "name": "stderr",
     "output_type": "stream",
     "text": [
      "Training Epoch [19/30]: 100%|██████████| 39/39 [00:01<00:00, 25.72batch/s, loss=0.186]  \n"
     ]
    },
    {
     "name": "stdout",
     "output_type": "stream",
     "text": [
      "output:  [0.00193533836863935, 0.9993826150894165, 0.3184312582015991, 0.2501126527786255, 0.005842885002493858, 0.7645063400268555, 0.9617222547531128, 0.00020473556651268154, 0.011515816673636436, 0.00011374365567462519, 0.2501126825809479, 0.9712899923324585, 0.9990309476852417]\n",
      "Predicted:  [0, 1, 0, 0, 0, 1, 1, 0, 0, 0, 0, 1, 1]\n",
      "Label:      [0, 1, 0, 1, 0, 1, 1, 0, 0, 0, 0, 1, 1]\n"
     ]
    },
    {
     "name": "stderr",
     "output_type": "stream",
     "text": [
      "Testing 🧐🧐: 100%|██████████| 10/10 [00:00<00:00, 30.81batch/s, loss=0.427]\n"
     ]
    },
    {
     "name": "stdout",
     "output_type": "stream",
     "text": [
      "Epoch 19, Loss: 0.1371, Accuracy: 0.9340, Test Loss: 0.2556, Test Accuracy: 0.8910\n",
      "\n",
      "writting\n"
     ]
    },
    {
     "name": "stderr",
     "output_type": "stream",
     "text": [
      "Training Epoch [20/30]: 100%|██████████| 39/39 [00:01<00:00, 26.10batch/s, loss=0.0586] \n"
     ]
    },
    {
     "name": "stdout",
     "output_type": "stream",
     "text": [
      "output:  [0.0012125076027587056, 0.9999628067016602, 0.9890137314796448, 0.5819494128227234, 0.0004035269666928798, 0.0005748135736212134, 0.9814378023147583, 0.9999971389770508, 0.9797245264053345, 0.9927830696105957, 6.712200411129743e-05, 0.001226547290571034, 0.8523309826850891]\n",
      "Predicted:  [0, 1, 1, 0, 0, 0, 1, 1, 1, 1, 0, 0, 1]\n",
      "Label:      [0, 1, 1, 1, 0, 0, 1, 1, 1, 1, 0, 0, 1]\n"
     ]
    },
    {
     "name": "stderr",
     "output_type": "stream",
     "text": [
      "Testing 🧐🧐: 100%|██████████| 10/10 [00:00<00:00, 33.48batch/s, loss=0.0764]\n"
     ]
    },
    {
     "name": "stdout",
     "output_type": "stream",
     "text": [
      "Epoch 20, Loss: 0.1293, Accuracy: 0.9291, Test Loss: 0.2061, Test Accuracy: 0.8974\n",
      "\n",
      "writting\n"
     ]
    },
    {
     "name": "stderr",
     "output_type": "stream",
     "text": [
      "Training Epoch [21/30]: 100%|██████████| 39/39 [00:01<00:00, 26.61batch/s, loss=0.343] \n"
     ]
    },
    {
     "name": "stdout",
     "output_type": "stream",
     "text": [
      "output:  [0.960735023021698, 0.9995595812797546, 0.9999980926513672, 0.54303377866745, 0.9989302754402161, 0.9999122619628906, 0.8597719073295593, 0.9995924830436707, 0.21774068474769592, 0.9998124241828918, 0.13270695507526398, 0.0035809404216706753, 0.0015652626752853394]\n",
      "Predicted:  [1, 1, 1, 0, 1, 1, 1, 1, 0, 1, 0, 0, 0]\n",
      "Label:      [1, 1, 1, 0, 1, 1, 0, 1, 1, 1, 0, 0, 0]\n"
     ]
    },
    {
     "name": "stderr",
     "output_type": "stream",
     "text": [
      "Testing 🧐🧐: 100%|██████████| 10/10 [00:00<00:00, 35.43batch/s, loss=0.273] \n"
     ]
    },
    {
     "name": "stdout",
     "output_type": "stream",
     "text": [
      "Epoch 21, Loss: 0.1087, Accuracy: 0.9517, Test Loss: 0.2579, Test Accuracy: 0.9038\n",
      "\n",
      "writting\n"
     ]
    },
    {
     "name": "stderr",
     "output_type": "stream",
     "text": [
      "Training Epoch [22/30]: 100%|██████████| 39/39 [00:01<00:00, 26.19batch/s, loss=0.17]  \n"
     ]
    },
    {
     "name": "stdout",
     "output_type": "stream",
     "text": [
      "output:  [0.0020428046118468046, 0.12169531732797623, 0.9967902302742004, 1.0, 0.9999967813491821, 0.2846585214138031, 0.004643672611564398, 0.999913215637207, 0.3721035122871399, 0.026943465694785118, 0.0012586340308189392, 0.2751576006412506, 0.00019264181901235133]\n",
      "Predicted:  [0, 0, 1, 1, 1, 0, 0, 1, 0, 0, 0, 0, 0]\n",
      "Label:      [0, 0, 1, 1, 1, 1, 0, 1, 0, 0, 0, 0, 0]\n"
     ]
    },
    {
     "name": "stderr",
     "output_type": "stream",
     "text": [
      "Testing 🧐🧐: 100%|██████████| 10/10 [00:00<00:00, 32.58batch/s, loss=0.0548]\n"
     ]
    },
    {
     "name": "stdout",
     "output_type": "stream",
     "text": [
      "Epoch 22, Loss: 0.1182, Accuracy: 0.9372, Test Loss: 0.3252, Test Accuracy: 0.9231\n",
      "\n",
      "writting\n"
     ]
    },
    {
     "name": "stderr",
     "output_type": "stream",
     "text": [
      "Training Epoch [23/30]: 100%|██████████| 39/39 [00:01<00:00, 25.90batch/s, loss=0.0415] \n"
     ]
    },
    {
     "name": "stdout",
     "output_type": "stream",
     "text": [
      "output:  [0.0007482963846996427, 0.0004923836677335203, 0.9999756813049316, 0.9768878221511841, 0.9997624754905701, 0.26843032240867615, 0.000739574315957725, 1.0, 0.04112893342971802, 0.9060690999031067, 0.9416182637214661, 0.9999985694885254, 0.0003334367065690458]\n",
      "Predicted:  [0, 0, 1, 1, 1, 0, 0, 1, 0, 1, 1, 1, 0]\n",
      "Label:      [0, 0, 1, 1, 1, 0, 0, 1, 0, 1, 1, 1, 0]\n"
     ]
    },
    {
     "name": "stderr",
     "output_type": "stream",
     "text": [
      "Testing 🧐🧐: 100%|██████████| 10/10 [00:00<00:00, 30.80batch/s, loss=0.44]  \n"
     ]
    },
    {
     "name": "stdout",
     "output_type": "stream",
     "text": [
      "Epoch 23, Loss: 0.0957, Accuracy: 0.9630, Test Loss: 0.2396, Test Accuracy: 0.9038\n",
      "\n",
      "writting\n"
     ]
    },
    {
     "name": "stderr",
     "output_type": "stream",
     "text": [
      "Training Epoch [24/30]: 100%|██████████| 39/39 [00:02<00:00, 16.04batch/s, loss=0.162]  \n"
     ]
    },
    {
     "name": "stdout",
     "output_type": "stream",
     "text": [
      "output:  [7.456048479070887e-06, 0.9997401833534241, 0.6241145133972168, 0.9836770296096802, 0.9999918937683105, 0.0027929472271353006, 0.9990574717521667, 0.0005196690326556563, 0.11378176510334015, 0.000524190254509449, 0.2273879051208496, 0.29016831517219543, 0.0021439327392727137]\n",
      "Predicted:  [0, 1, 0, 1, 1, 0, 1, 0, 0, 0, 0, 0, 0]\n",
      "Label:      [0, 1, 1, 1, 1, 0, 1, 0, 0, 0, 0, 1, 0]\n"
     ]
    },
    {
     "name": "stderr",
     "output_type": "stream",
     "text": [
      "Testing 🧐🧐: 100%|██████████| 10/10 [00:00<00:00, 11.37batch/s, loss=0.0986]\n"
     ]
    },
    {
     "name": "stdout",
     "output_type": "stream",
     "text": [
      "Epoch 24, Loss: 0.1026, Accuracy: 0.9517, Test Loss: 0.2986, Test Accuracy: 0.8974\n",
      "\n",
      "writting\n"
     ]
    },
    {
     "name": "stderr",
     "output_type": "stream",
     "text": [
      "Training Epoch [25/30]: 100%|██████████| 39/39 [00:04<00:00,  8.42batch/s, loss=0.0296]\n"
     ]
    },
    {
     "name": "stdout",
     "output_type": "stream",
     "text": [
      "output:  [0.9934964179992676, 0.0031038697343319654, 8.01210044301115e-05, 0.999996542930603, 0.24137556552886963, 0.9726506471633911, 8.337717008544132e-05, 0.010626650415360928, 0.011803344823420048, 0.979107141494751, 0.9732979536056519, 0.9999958276748657, 0.0001903478114400059]\n",
      "Predicted:  [1, 0, 0, 1, 0, 1, 0, 0, 0, 1, 1, 1, 0]\n",
      "Label:      [1, 0, 0, 1, 0, 1, 0, 0, 0, 1, 1, 1, 0]\n"
     ]
    },
    {
     "name": "stderr",
     "output_type": "stream",
     "text": [
      "Testing 🧐🧐: 100%|██████████| 10/10 [00:00<00:00, 11.33batch/s, loss=0.857]\n"
     ]
    },
    {
     "name": "stdout",
     "output_type": "stream",
     "text": [
      "Epoch 25, Loss: 0.1212, Accuracy: 0.9420, Test Loss: 0.3082, Test Accuracy: 0.8782\n",
      "\n",
      "writting\n"
     ]
    },
    {
     "name": "stderr",
     "output_type": "stream",
     "text": [
      "Training Epoch [26/30]: 100%|██████████| 39/39 [00:01<00:00, 21.07batch/s, loss=0.0355] \n"
     ]
    },
    {
     "name": "stdout",
     "output_type": "stream",
     "text": [
      "output:  [0.9999998807907104, 0.00037285604048520327, 0.05877283215522766, 0.9999998807907104, 0.9999996423721313, 0.007505897898226976, 0.1136736273765564, 0.9999998807907104, 0.9996334314346313, 0.0002125474129570648, 0.0009845696622505784, 0.2341202199459076, 0.9963506460189819]\n",
      "Predicted:  [1, 0, 0, 1, 1, 0, 0, 1, 1, 0, 0, 0, 1]\n",
      "Label:      [1, 0, 0, 1, 1, 0, 0, 1, 1, 0, 0, 0, 1]\n"
     ]
    },
    {
     "name": "stderr",
     "output_type": "stream",
     "text": [
      "Testing 🧐🧐: 100%|██████████| 10/10 [00:00<00:00, 28.86batch/s, loss=0.59] \n"
     ]
    },
    {
     "name": "stdout",
     "output_type": "stream",
     "text": [
      "Epoch 26, Loss: 0.0879, Accuracy: 0.9597, Test Loss: 0.2863, Test Accuracy: 0.9359\n",
      "\n",
      "writting\n"
     ]
    },
    {
     "name": "stderr",
     "output_type": "stream",
     "text": [
      "Training Epoch [27/30]: 100%|██████████| 39/39 [00:01<00:00, 26.69batch/s, loss=0.173]   \n"
     ]
    },
    {
     "name": "stdout",
     "output_type": "stream",
     "text": [
      "output:  [0.886050820350647, 0.9984360337257385, 0.001917596673592925, 0.6990427374839783, 0.9999111890792847, 1.7507616576040164e-05, 0.0015266197733581066, 0.9999680519104004, 0.05239332839846611, 9.383104043081403e-06, 0.004239531233906746, 3.0504352253046818e-05, 0.18063519895076752]\n",
      "Predicted:  [1, 1, 0, 0, 1, 0, 0, 1, 0, 0, 0, 0, 0]\n",
      "Label:      [1, 1, 0, 1, 1, 0, 0, 1, 0, 0, 0, 0, 1]\n"
     ]
    },
    {
     "name": "stderr",
     "output_type": "stream",
     "text": [
      "Testing 🧐🧐: 100%|██████████| 10/10 [00:00<00:00, 34.88batch/s, loss=0.0197]\n"
     ]
    },
    {
     "name": "stdout",
     "output_type": "stream",
     "text": [
      "Epoch 27, Loss: 0.0716, Accuracy: 0.9726, Test Loss: 0.8014, Test Accuracy: 0.9295\n",
      "\n",
      "writting\n"
     ]
    },
    {
     "name": "stderr",
     "output_type": "stream",
     "text": [
      "Training Epoch [28/30]: 100%|██████████| 39/39 [00:01<00:00, 25.38batch/s, loss=0.00496]\n"
     ]
    },
    {
     "name": "stdout",
     "output_type": "stream",
     "text": [
      "output:  [0.9517448544502258, 0.9999957084655762, 0.9934298396110535, 0.999624490737915, 3.685157935251482e-05, 0.9943676590919495, 0.9979395270347595, 6.336574006127194e-05, 0.9998655319213867, 0.9999998807907104, 0.9999998807907104, 0.9999998807907104, 7.897135947132483e-05]\n",
      "Predicted:  [1, 1, 1, 1, 0, 1, 1, 0, 1, 1, 1, 1, 0]\n",
      "Label:      [1, 1, 1, 1, 0, 1, 1, 0, 1, 1, 1, 1, 0]\n"
     ]
    },
    {
     "name": "stderr",
     "output_type": "stream",
     "text": [
      "Testing 🧐🧐: 100%|██████████| 10/10 [00:00<00:00, 30.46batch/s, loss=0.311]\n"
     ]
    },
    {
     "name": "stdout",
     "output_type": "stream",
     "text": [
      "Epoch 28, Loss: 0.0618, Accuracy: 0.9726, Test Loss: 0.3551, Test Accuracy: 0.9359\n",
      "\n",
      "writting\n"
     ]
    },
    {
     "name": "stderr",
     "output_type": "stream",
     "text": [
      "Training Epoch [29/30]: 100%|██████████| 39/39 [00:01<00:00, 29.63batch/s, loss=0.0319] \n"
     ]
    },
    {
     "name": "stdout",
     "output_type": "stream",
     "text": [
      "output:  [0.00017193527310155332, 4.236069435137324e-05, 0.9999632835388184, 0.9999728202819824, 0.9999630451202393, 0.9998254179954529, 0.009129536338150501, 0.09064606577157974, 0.9853912591934204, 4.124392944504507e-05, 0.0001701082510408014, 0.0004882960929535329, 0.7448529005050659]\n",
      "Predicted:  [0, 0, 1, 1, 1, 1, 0, 0, 1, 0, 0, 0, 1]\n",
      "Label:      [0, 0, 1, 1, 1, 1, 0, 0, 1, 0, 0, 0, 1]\n"
     ]
    },
    {
     "name": "stderr",
     "output_type": "stream",
     "text": [
      "Testing 🧐🧐: 100%|██████████| 10/10 [00:00<00:00, 34.29batch/s, loss=0.0113]\n"
     ]
    },
    {
     "name": "stdout",
     "output_type": "stream",
     "text": [
      "Epoch 29, Loss: 0.0621, Accuracy: 0.9742, Test Loss: 0.2763, Test Accuracy: 0.9359\n",
      "\n",
      "writting\n"
     ]
    },
    {
     "name": "stderr",
     "output_type": "stream",
     "text": [
      "Training Epoch [30/30]: 100%|██████████| 39/39 [00:01<00:00, 27.22batch/s, loss=0.116]  \n"
     ]
    },
    {
     "name": "stdout",
     "output_type": "stream",
     "text": [
      "output:  [0.25395745038986206, 0.9178244471549988, 0.9999840259552002, 0.9998660087585449, 0.9931244254112244, 0.5079794526100159, 0.0002956711396109313, 1.0, 3.233007009839639e-05, 0.13551589846611023, 0.25395745038986206, 0.0016051013953983784, 0.9986110925674438]\n",
      "Predicted:  [0, 1, 1, 1, 1, 0, 0, 1, 0, 0, 0, 0, 1]\n",
      "Label:      [0, 1, 1, 1, 1, 1, 0, 1, 0, 0, 0, 0, 1]\n"
     ]
    },
    {
     "name": "stderr",
     "output_type": "stream",
     "text": [
      "Testing 🧐🧐: 100%|██████████| 10/10 [00:00<00:00, 34.50batch/s, loss=0.128]"
     ]
    },
    {
     "name": "stdout",
     "output_type": "stream",
     "text": [
      "Epoch 30, Loss: 0.0683, Accuracy: 0.9742, Test Loss: 0.7776, Test Accuracy: 0.9231\n",
      "\n",
      "writting\n"
     ]
    },
    {
     "name": "stderr",
     "output_type": "stream",
     "text": [
      "\n"
     ]
    }
   ],
   "source": [
    "### START CODE HERE ###\n",
    "\n",
    "writer = SummaryWriter(log_dir='runs/cnn')\n",
    "\n",
    "cnn_model = CNN() \n",
    "loss_fn = nn.BCELoss()\n",
    "optimizer = torch.optim.SGD(cnn_model.parameters(), lr=0.01, momentum=0.9)\n",
    "\n",
    "class_names = [f'{x}' for x in range(2)]\n",
    "train_loader, test_loader = load_data('thai-handwriting-number.appspot.com',class_names)\n",
    "\n",
    "device = 'cpu'\n",
    "\n",
    "cnn_history = train(\n",
    "    class_names,\n",
    "    cnn_model,\n",
    "    optimizer,\n",
    "    loss_fn,\n",
    "    train_loader,\n",
    "    test_loader,\n",
    "    epochs=30,\n",
    "    writer=writer,\n",
    "    checkpoint_path=\"checkpoints/cnn_model\",\n",
    "    device=device,\n",
    ")\n",
    "\n",
    "### END CODE HERE ###"
   ]
  },
  {
   "cell_type": "code",
   "execution_count": null,
   "metadata": {},
   "outputs": [
    {
     "name": "stdout",
     "output_type": "stream",
     "text": [
      "Train Dataset:\n",
      "\tNumber of images in class 0: 310\n",
      "\tNumber of images in class 1: 311\n",
      "\tNumber of train samples: 621\n",
      "Test Dataset:\n",
      "\tNumber of images in class 0: 78\n",
      "\tNumber of images in class 1: 78\n",
      "\tNumber of test samples: 156\n"
     ]
    },
    {
     "data": {
      "image/png": "[encoded data removed]",
      "text/plain": [
       "<Figure size 1000x1000 with 32 Axes>"
      ]
     },
     "metadata": {},
     "output_type": "display_data"
    },
    {
     "name": "stdout",
     "output_type": "stream",
     "text": [
      "😎✨ Training on 20250727_165857  cpu\n"
     ]
    },
    {
     "name": "stderr",
     "output_type": "stream",
     "text": [
      "Training Epoch [1/30]: 100%|██████████| 39/39 [00:00<00:00, 46.90batch/s, loss=0.417]\n"
     ]
    },
    {
     "name": "stdout",
     "output_type": "stream",
     "text": [
      "output:  [0.3206178545951843, 0.8301833271980286, 0.39705055952072144, 0.019824551418423653, 0.13067729771137238, 0.17298294603824615, 0.8496673107147217, 0.16955207288265228, 0.46278613805770874, 0.49682924151420593, 0.9051191210746765, 0.6264829635620117, 0.4430401921272278]\n",
      "Predicted:  [0, 1, 0, 0, 0, 0, 1, 0, 0, 0, 1, 0, 0]\n",
      "Label:      [0, 1, 1, 0, 0, 0, 1, 0, 0, 1, 1, 0, 1]\n"
     ]
    },
    {
     "name": "stderr",
     "output_type": "stream",
     "text": [
      "Testing 🧐🧐: 100%|██████████| 10/10 [00:00<00:00, 50.59batch/s, loss=0.543]\n"
     ]
    },
    {
     "name": "stdout",
     "output_type": "stream",
     "text": [
      "Epoch 1, Loss: 0.8457, Accuracy: 0.6393, Test Loss: 0.4967, Test Accuracy: 0.7436\n",
      "\n",
      "writting\n"
     ]
    },
    {
     "name": "stderr",
     "output_type": "stream",
     "text": [
      "Training Epoch [2/30]: 100%|██████████| 39/39 [00:00<00:00, 47.30batch/s, loss=0.764]\n"
     ]
    },
    {
     "name": "stdout",
     "output_type": "stream",
     "text": [
      "output:  [0.6554731726646423, 0.454977422952652, 0.9782935380935669, 0.03937908634543419, 0.5451030135154724, 0.6386457681655884, 0.7488728761672974, 0.10792046785354614, 0.041409581899642944, 0.966917097568512, 0.14010095596313477, 0.5969656705856323, 0.8900978565216064]\n",
      "Predicted:  [0, 0, 1, 0, 0, 0, 1, 0, 0, 1, 0, 0, 1]\n",
      "Label:      [1, 1, 1, 1, 1, 1, 1, 0, 1, 1, 0, 1, 1]\n"
     ]
    },
    {
     "name": "stderr",
     "output_type": "stream",
     "text": [
      "Testing 🧐🧐: 100%|██████████| 10/10 [00:00<00:00, 48.88batch/s, loss=0.276]\n"
     ]
    },
    {
     "name": "stdout",
     "output_type": "stream",
     "text": [
      "Epoch 2, Loss: 0.4795, Accuracy: 0.7617, Test Loss: 0.6021, Test Accuracy: 0.7756\n",
      "\n",
      "writting\n"
     ]
    },
    {
     "name": "stderr",
     "output_type": "stream",
     "text": [
      "Training Epoch [3/30]: 100%|██████████| 39/39 [00:00<00:00, 45.79batch/s, loss=0.499]\n"
     ]
    },
    {
     "name": "stdout",
     "output_type": "stream",
     "text": [
      "output:  [0.6196693181991577, 0.6035721898078918, 0.21256110072135925, 0.4487185776233673, 0.6276827454566956, 0.8609241247177124, 0.6389786601066589, 0.9496123790740967, 0.044099658727645874, 0.6834964156150818, 0.23557624220848083, 0.40021762251853943, 0.8967105746269226]\n",
      "Predicted:  [0, 0, 0, 0, 0, 1, 0, 1, 0, 0, 0, 0, 1]\n",
      "Label:      [1, 0, 0, 0, 1, 0, 1, 1, 0, 1, 0, 0, 1]\n"
     ]
    },
    {
     "name": "stderr",
     "output_type": "stream",
     "text": [
      "Testing 🧐🧐: 100%|██████████| 10/10 [00:00<00:00, 51.57batch/s, loss=0.522]\n"
     ]
    },
    {
     "name": "stdout",
     "output_type": "stream",
     "text": [
      "Epoch 3, Loss: 0.5056, Accuracy: 0.7633, Test Loss: 0.5142, Test Accuracy: 0.7885\n",
      "\n",
      "writting\n"
     ]
    },
    {
     "name": "stderr",
     "output_type": "stream",
     "text": [
      "Training Epoch [4/30]: 100%|██████████| 39/39 [00:00<00:00, 46.86batch/s, loss=0.46] \n"
     ]
    },
    {
     "name": "stdout",
     "output_type": "stream",
     "text": [
      "output:  [0.9381923675537109, 0.19675487279891968, 0.6066279411315918, 0.5016354918479919, 0.9728694558143616, 0.07803066074848175, 0.014816981740295887, 0.8959804773330688, 0.744674563407898, 0.5505789518356323, 0.24501247704029083, 0.31139400601387024, 0.9199327230453491]\n",
      "Predicted:  [1, 0, 0, 0, 1, 0, 0, 1, 1, 0, 0, 0, 1]\n",
      "Label:      [1, 0, 1, 1, 1, 0, 0, 1, 1, 0, 0, 0, 0]\n"
     ]
    },
    {
     "name": "stderr",
     "output_type": "stream",
     "text": [
      "Testing 🧐🧐: 100%|██████████| 10/10 [00:00<00:00, 49.20batch/s, loss=0.767]\n"
     ]
    },
    {
     "name": "stdout",
     "output_type": "stream",
     "text": [
      "Epoch 4, Loss: 0.5923, Accuracy: 0.7246, Test Loss: 0.6516, Test Accuracy: 0.7628\n",
      "\n",
      "writting\n"
     ]
    },
    {
     "name": "stderr",
     "output_type": "stream",
     "text": [
      "Training Epoch [5/30]: 100%|██████████| 39/39 [00:00<00:00, 49.09batch/s, loss=0.0883]\n"
     ]
    },
    {
     "name": "stdout",
     "output_type": "stream",
     "text": [
      "output:  [0.04396678879857063, 0.024444224312901497, 0.06451281160116196, 0.8742180466651917, 0.012661522254347801, 0.03312801569700241, 0.008037231862545013, 0.9203934073448181, 0.009410313330590725, 0.007215845864266157, 0.9162495136260986, 0.5609143972396851, 0.05556166172027588]\n",
      "Predicted:  [0, 0, 0, 1, 0, 0, 0, 1, 0, 0, 1, 0, 0]\n",
      "Label:      [0, 0, 0, 1, 0, 0, 0, 1, 0, 0, 1, 1, 0]\n"
     ]
    },
    {
     "name": "stderr",
     "output_type": "stream",
     "text": [
      "Testing 🧐🧐: 100%|██████████| 10/10 [00:00<00:00, 45.99batch/s, loss=1.04]\n"
     ]
    },
    {
     "name": "stdout",
     "output_type": "stream",
     "text": [
      "Epoch 5, Loss: 0.4731, Accuracy: 0.7858, Test Loss: 0.5734, Test Accuracy: 0.6923\n",
      "\n",
      "writting\n"
     ]
    },
    {
     "name": "stderr",
     "output_type": "stream",
     "text": [
      "Training Epoch [6/30]: 100%|██████████| 39/39 [00:00<00:00, 47.78batch/s, loss=0.73] \n"
     ]
    },
    {
     "name": "stdout",
     "output_type": "stream",
     "text": [
      "output:  [0.5161072015762329, 0.7859620451927185, 0.5764985084533691, 0.955010175704956, 0.4318425953388214, 0.9006569385528564, 0.7631306052207947, 0.05651765316724777, 0.8563987612724304, 0.04885244742035866, 0.5513325929641724, 0.08679204434156418, 0.9235257506370544]\n",
      "Predicted:  [0, 1, 0, 1, 0, 1, 1, 0, 1, 0, 0, 0, 1]\n",
      "Label:      [0, 0, 0, 1, 0, 1, 0, 0, 1, 1, 0, 0, 1]\n"
     ]
    },
    {
     "name": "stderr",
     "output_type": "stream",
     "text": [
      "Testing 🧐🧐: 100%|██████████| 10/10 [00:00<00:00, 49.23batch/s, loss=0.797]\n"
     ]
    },
    {
     "name": "stdout",
     "output_type": "stream",
     "text": [
      "Epoch 6, Loss: 0.5133, Accuracy: 0.7681, Test Loss: 0.5224, Test Accuracy: 0.7564\n",
      "\n",
      "writting\n"
     ]
    },
    {
     "name": "stderr",
     "output_type": "stream",
     "text": [
      "Training Epoch [7/30]: 100%|██████████| 39/39 [00:00<00:00, 47.36batch/s, loss=1.03] \n"
     ]
    },
    {
     "name": "stdout",
     "output_type": "stream",
     "text": [
      "output:  [0.9988571405410767, 0.9963251948356628, 0.5401058793067932, 0.9688753485679626, 0.9840061068534851, 0.2022518366575241, 0.2022518366575241, 0.8464574813842773, 0.12455485761165619, 0.9956631064414978, 0.9992602467536926, 0.9986183643341064, 0.6837846040725708]\n",
      "Predicted:  [1, 1, 0, 1, 1, 0, 0, 1, 0, 1, 1, 1, 0]\n",
      "Label:      [1, 1, 0, 0, 0, 1, 0, 0, 0, 1, 1, 1, 0]\n"
     ]
    },
    {
     "name": "stderr",
     "output_type": "stream",
     "text": [
      "Testing 🧐🧐: 100%|██████████| 10/10 [00:00<00:00, 49.89batch/s, loss=0.409]\n"
     ]
    },
    {
     "name": "stdout",
     "output_type": "stream",
     "text": [
      "Epoch 7, Loss: 0.6450, Accuracy: 0.7456, Test Loss: 0.5202, Test Accuracy: 0.8141\n",
      "\n",
      "writting\n"
     ]
    },
    {
     "name": "stderr",
     "output_type": "stream",
     "text": [
      "Training Epoch [8/30]: 100%|██████████| 39/39 [00:00<00:00, 45.71batch/s, loss=0.339]\n"
     ]
    },
    {
     "name": "stdout",
     "output_type": "stream",
     "text": [
      "output:  [0.9690444469451904, 0.6268618106842041, 0.9977523684501648, 0.2885410189628601, 0.6032834649085999, 0.999035120010376, 0.3725047707557678, 0.06177539378404617, 0.9994019269943237, 0.9986503720283508, 0.2803751528263092, 0.8463883996009827, 0.3351685106754303]\n",
      "Predicted:  [1, 0, 1, 0, 0, 1, 0, 0, 1, 1, 0, 1, 0]\n",
      "Label:      [1, 0, 1, 0, 0, 1, 0, 0, 1, 1, 0, 1, 1]\n"
     ]
    },
    {
     "name": "stderr",
     "output_type": "stream",
     "text": [
      "Testing 🧐🧐: 100%|██████████| 10/10 [00:00<00:00, 51.21batch/s, loss=0.526]\n"
     ]
    },
    {
     "name": "stdout",
     "output_type": "stream",
     "text": [
      "Epoch 8, Loss: 0.6213, Accuracy: 0.7617, Test Loss: 0.4841, Test Accuracy: 0.7564\n",
      "\n",
      "writting\n"
     ]
    },
    {
     "name": "stderr",
     "output_type": "stream",
     "text": [
      "Training Epoch [9/30]: 100%|██████████| 39/39 [00:00<00:00, 47.93batch/s, loss=0.181]\n"
     ]
    },
    {
     "name": "stdout",
     "output_type": "stream",
     "text": [
      "output:  [0.9076887369155884, 0.31957900524139404, 0.9425294399261475, 0.6481554508209229, 0.9953069090843201, 0.9919816851615906, 0.7618518471717834, 0.995589017868042, 0.8889114260673523, 0.0059332288801670074, 0.05554032325744629, 0.11156594753265381, 0.8325666785240173]\n",
      "Predicted:  [1, 0, 1, 0, 1, 1, 1, 1, 1, 0, 0, 0, 1]\n",
      "Label:      [1, 0, 1, 0, 1, 1, 1, 1, 1, 0, 0, 0, 1]\n"
     ]
    },
    {
     "name": "stderr",
     "output_type": "stream",
     "text": [
      "Testing 🧐🧐: 100%|██████████| 10/10 [00:00<00:00, 48.31batch/s, loss=0.409]\n"
     ]
    },
    {
     "name": "stdout",
     "output_type": "stream",
     "text": [
      "Epoch 9, Loss: 0.4816, Accuracy: 0.8068, Test Loss: 0.4942, Test Accuracy: 0.7885\n",
      "\n",
      "writting\n"
     ]
    },
    {
     "name": "stderr",
     "output_type": "stream",
     "text": [
      "Training Epoch [10/30]: 100%|██████████| 39/39 [00:00<00:00, 48.57batch/s, loss=0.536] \n"
     ]
    },
    {
     "name": "stdout",
     "output_type": "stream",
     "text": [
      "output:  [0.17591002583503723, 0.0864960327744484, 0.0416618287563324, 0.9790993332862854, 0.01465770322829485, 0.08860088139772415, 0.22675630450248718, 0.34507250785827637, 0.6546301245689392, 0.9528099298477173, 0.6221182346343994, 0.4864964783191681, 0.016947604715824127]\n",
      "Predicted:  [0, 0, 0, 1, 0, 0, 0, 0, 0, 1, 0, 0, 0]\n",
      "Label:      [0, 0, 0, 1, 1, 0, 0, 0, 1, 1, 1, 0, 0]\n"
     ]
    },
    {
     "name": "stderr",
     "output_type": "stream",
     "text": [
      "Testing 🧐🧐: 100%|██████████| 10/10 [00:00<00:00, 44.84batch/s, loss=0.506]\n"
     ]
    },
    {
     "name": "stdout",
     "output_type": "stream",
     "text": [
      "Epoch 10, Loss: 0.4285, Accuracy: 0.8196, Test Loss: 0.4977, Test Accuracy: 0.7500\n",
      "\n",
      "writting\n"
     ]
    },
    {
     "name": "stderr",
     "output_type": "stream",
     "text": [
      "Training Epoch [11/30]: 100%|██████████| 39/39 [00:00<00:00, 47.18batch/s, loss=0.212] \n"
     ]
    },
    {
     "name": "stdout",
     "output_type": "stream",
     "text": [
      "output:  [0.23280611634254456, 0.00791284441947937, 0.9072453379631042, 0.8069892525672913, 0.6819189190864563, 0.9397950768470764, 0.03235519677400589, 0.622952401638031, 0.9822635054588318, 0.019306253641843796, 0.09489012509584427, 0.49378538131713867, 0.6815842986106873]\n",
      "Predicted:  [0, 0, 1, 1, 0, 1, 0, 0, 1, 0, 0, 0, 0]\n",
      "Label:      [0, 0, 1, 1, 1, 1, 0, 1, 1, 0, 0, 1, 1]\n"
     ]
    },
    {
     "name": "stderr",
     "output_type": "stream",
     "text": [
      "Testing 🧐🧐: 100%|██████████| 10/10 [00:00<00:00, 47.19batch/s, loss=0.255]\n"
     ]
    },
    {
     "name": "stdout",
     "output_type": "stream",
     "text": [
      "Epoch 11, Loss: 0.4369, Accuracy: 0.8116, Test Loss: 0.4628, Test Accuracy: 0.7821\n",
      "\n",
      "writting\n"
     ]
    },
    {
     "name": "stderr",
     "output_type": "stream",
     "text": [
      "Training Epoch [12/30]: 100%|██████████| 39/39 [00:00<00:00, 49.26batch/s, loss=0.473]\n"
     ]
    },
    {
     "name": "stdout",
     "output_type": "stream",
     "text": [
      "output:  [0.9775933027267456, 0.9015083312988281, 0.9491962194442749, 0.08868210017681122, 0.268274188041687, 0.9929335117340088, 0.651353120803833, 0.6569346189498901, 0.45520514249801636, 0.3399803340435028, 0.9964296221733093, 0.9586108326911926, 0.13941824436187744]\n",
      "Predicted:  [1, 1, 1, 0, 0, 1, 0, 0, 0, 0, 1, 1, 0]\n",
      "Label:      [1, 0, 1, 0, 0, 1, 0, 0, 0, 0, 1, 1, 0]\n"
     ]
    },
    {
     "name": "stderr",
     "output_type": "stream",
     "text": [
      "Testing 🧐🧐: 100%|██████████| 10/10 [00:00<00:00, 51.60batch/s, loss=0.594]\n"
     ]
    },
    {
     "name": "stdout",
     "output_type": "stream",
     "text": [
      "Epoch 12, Loss: 0.4701, Accuracy: 0.7923, Test Loss: 0.4788, Test Accuracy: 0.7756\n",
      "\n",
      "writting\n"
     ]
    },
    {
     "name": "stderr",
     "output_type": "stream",
     "text": [
      "Training Epoch [13/30]: 100%|██████████| 39/39 [00:00<00:00, 49.81batch/s, loss=0.488]\n"
     ]
    },
    {
     "name": "stdout",
     "output_type": "stream",
     "text": [
      "output:  [0.8958063125610352, 0.04371165484189987, 0.8801393508911133, 0.12071837484836578, 0.9561896920204163, 0.026442471891641617, 0.15204399824142456, 0.5657845735549927, 0.8416811227798462, 0.9918535351753235, 0.98973548412323, 0.06516344100236893, 0.9433838725090027]\n",
      "Predicted:  [1, 0, 1, 0, 1, 0, 0, 0, 1, 1, 1, 0, 1]\n",
      "Label:      [1, 1, 1, 0, 1, 0, 1, 1, 1, 1, 1, 0, 1]\n"
     ]
    },
    {
     "name": "stderr",
     "output_type": "stream",
     "text": [
      "Testing 🧐🧐: 100%|██████████| 10/10 [00:00<00:00, 45.99batch/s, loss=0.693]\n"
     ]
    },
    {
     "name": "stdout",
     "output_type": "stream",
     "text": [
      "Epoch 13, Loss: 0.5037, Accuracy: 0.7697, Test Loss: 0.4867, Test Accuracy: 0.8269\n",
      "\n",
      "writting\n"
     ]
    },
    {
     "name": "stderr",
     "output_type": "stream",
     "text": [
      "Training Epoch [14/30]: 100%|██████████| 39/39 [00:00<00:00, 49.35batch/s, loss=0.824] \n"
     ]
    },
    {
     "name": "stdout",
     "output_type": "stream",
     "text": [
      "output:  [0.9473733305931091, 0.11430619657039642, 0.42502859234809875, 0.1357349157333374, 0.9949766993522644, 0.605156421661377, 0.7215631604194641, 0.40971899032592773, 0.9672089219093323, 0.8274938464164734, 0.6705285310745239, 0.9993187189102173, 0.9686351418495178]\n",
      "Predicted:  [1, 0, 0, 0, 1, 0, 1, 0, 1, 1, 0, 1, 1]\n",
      "Label:      [0, 0, 0, 0, 1, 0, 1, 1, 1, 1, 0, 1, 0]\n"
     ]
    },
    {
     "name": "stderr",
     "output_type": "stream",
     "text": [
      "Testing 🧐🧐: 100%|██████████| 10/10 [00:00<00:00, 47.89batch/s, loss=0.947]\n"
     ]
    },
    {
     "name": "stdout",
     "output_type": "stream",
     "text": [
      "Epoch 14, Loss: 0.4565, Accuracy: 0.8068, Test Loss: 0.6914, Test Accuracy: 0.7692\n",
      "\n",
      "writting\n"
     ]
    },
    {
     "name": "stderr",
     "output_type": "stream",
     "text": [
      "Training Epoch [15/30]: 100%|██████████| 39/39 [00:00<00:00, 47.61batch/s, loss=1.66] \n"
     ]
    },
    {
     "name": "stdout",
     "output_type": "stream",
     "text": [
      "output:  [0.40597641468048096, 0.003874080488458276, 0.20665012300014496, 0.15737676620483398, 0.021163059398531914, 0.0006349951727315784, 0.37331587076187134, 0.1689741164445877, 0.037191882729530334, 0.0011938557727262378, 0.14940069615840912, 0.011721482500433922, 0.41653552651405334]\n",
      "Predicted:  [0, 0, 0, 0, 0, 0, 0, 0, 0, 0, 0, 0, 0]\n",
      "Label:      [0, 0, 0, 1, 0, 1, 1, 1, 1, 0, 0, 1, 1]\n"
     ]
    },
    {
     "name": "stderr",
     "output_type": "stream",
     "text": [
      "Testing 🧐🧐: 100%|██████████| 10/10 [00:00<00:00, 48.70batch/s, loss=0.211]\n"
     ]
    },
    {
     "name": "stdout",
     "output_type": "stream",
     "text": [
      "Epoch 15, Loss: 0.4822, Accuracy: 0.7890, Test Loss: 0.4756, Test Accuracy: 0.7821\n",
      "\n",
      "writting\n"
     ]
    },
    {
     "name": "stderr",
     "output_type": "stream",
     "text": [
      "Training Epoch [16/30]: 100%|██████████| 39/39 [00:00<00:00, 48.36batch/s, loss=0.261]\n"
     ]
    },
    {
     "name": "stdout",
     "output_type": "stream",
     "text": [
      "output:  [0.11482621729373932, 0.13709379732608795, 0.011644737794995308, 0.0321199856698513, 0.01476792711764574, 0.017324544489383698, 0.044591065496206284, 0.78631591796875, 0.033883240073919296, 0.7392852306365967, 0.4092552363872528, 0.08218628168106079, 0.12893356382846832]\n",
      "Predicted:  [0, 0, 0, 0, 0, 0, 0, 1, 0, 1, 0, 0, 0]\n",
      "Label:      [0, 0, 0, 0, 0, 0, 0, 0, 0, 1, 1, 0, 0]\n"
     ]
    },
    {
     "name": "stderr",
     "output_type": "stream",
     "text": [
      "Testing 🧐🧐: 100%|██████████| 10/10 [00:00<00:00, 52.03batch/s, loss=0.413]\n"
     ]
    },
    {
     "name": "stdout",
     "output_type": "stream",
     "text": [
      "Epoch 16, Loss: 0.4385, Accuracy: 0.8068, Test Loss: 0.5137, Test Accuracy: 0.8077\n",
      "\n",
      "writting\n"
     ]
    },
    {
     "name": "stderr",
     "output_type": "stream",
     "text": [
      "Training Epoch [17/30]: 100%|██████████| 39/39 [00:00<00:00, 49.59batch/s, loss=0.385]\n"
     ]
    },
    {
     "name": "stdout",
     "output_type": "stream",
     "text": [
      "output:  [0.8682052493095398, 0.014718209393322468, 0.7466171383857727, 0.9138505458831787, 0.14405058324337006, 0.4427602291107178, 0.6339183449745178, 0.6937372088432312, 0.6051559448242188, 0.4886862337589264, 0.9841981530189514, 0.8432053327560425, 0.7938005328178406]\n",
      "Predicted:  [1, 0, 1, 1, 0, 0, 0, 0, 0, 0, 1, 1, 1]\n",
      "Label:      [1, 0, 0, 1, 0, 1, 1, 1, 1, 0, 1, 1, 1]\n"
     ]
    },
    {
     "name": "stderr",
     "output_type": "stream",
     "text": [
      "Testing 🧐🧐: 100%|██████████| 10/10 [00:00<00:00, 51.01batch/s, loss=0.975]\n"
     ]
    },
    {
     "name": "stdout",
     "output_type": "stream",
     "text": [
      "Epoch 17, Loss: 0.4463, Accuracy: 0.8196, Test Loss: 0.7129, Test Accuracy: 0.7500\n",
      "\n",
      "writting\n"
     ]
    },
    {
     "name": "stderr",
     "output_type": "stream",
     "text": [
      "Training Epoch [18/30]: 100%|██████████| 39/39 [00:00<00:00, 48.76batch/s, loss=0.185]\n"
     ]
    },
    {
     "name": "stdout",
     "output_type": "stream",
     "text": [
      "output:  [0.687350332736969, 0.702159583568573, 0.9968277812004089, 0.9854657649993896, 0.8986960053443909, 0.9617078304290771, 0.059128496795892715, 0.018456071615219116, 0.9809519648551941, 0.25204142928123474, 0.053868744522333145, 0.47445428371429443, 0.34547755122184753]\n",
      "Predicted:  [0, 1, 1, 1, 1, 1, 0, 0, 1, 0, 0, 0, 0]\n",
      "Label:      [1, 1, 1, 1, 1, 1, 0, 0, 1, 0, 0, 0, 0]\n"
     ]
    },
    {
     "name": "stderr",
     "output_type": "stream",
     "text": [
      "Testing 🧐🧐: 100%|██████████| 10/10 [00:00<00:00, 49.78batch/s, loss=0.724]\n"
     ]
    },
    {
     "name": "stdout",
     "output_type": "stream",
     "text": [
      "Epoch 18, Loss: 0.4610, Accuracy: 0.8180, Test Loss: 0.4886, Test Accuracy: 0.7692\n",
      "\n",
      "writting\n"
     ]
    },
    {
     "name": "stderr",
     "output_type": "stream",
     "text": [
      "Training Epoch [19/30]: 100%|██████████| 39/39 [00:00<00:00, 48.09batch/s, loss=0.0836]\n"
     ]
    },
    {
     "name": "stdout",
     "output_type": "stream",
     "text": [
      "output:  [0.8814197182655334, 0.8387256860733032, 0.6726481914520264, 0.9861004948616028, 0.9923868179321289, 0.01801755093038082, 0.01801755093038082, 0.9402869939804077, 0.8503466248512268, 0.9984117746353149, 0.9961624145507812, 0.09555097669363022, 0.9989975094795227]\n",
      "Predicted:  [1, 1, 0, 1, 1, 0, 0, 1, 1, 1, 1, 0, 1]\n",
      "Label:      [1, 1, 1, 1, 1, 0, 0, 1, 1, 1, 1, 0, 1]\n"
     ]
    },
    {
     "name": "stderr",
     "output_type": "stream",
     "text": [
      "Testing 🧐🧐: 100%|██████████| 10/10 [00:00<00:00, 49.73batch/s, loss=0.417]\n"
     ]
    },
    {
     "name": "stdout",
     "output_type": "stream",
     "text": [
      "Epoch 19, Loss: 0.4219, Accuracy: 0.8180, Test Loss: 0.5123, Test Accuracy: 0.8077\n",
      "\n",
      "writting\n"
     ]
    },
    {
     "name": "stderr",
     "output_type": "stream",
     "text": [
      "Training Epoch [20/30]: 100%|██████████| 39/39 [00:00<00:00, 49.76batch/s, loss=0.427]\n"
     ]
    },
    {
     "name": "stdout",
     "output_type": "stream",
     "text": [
      "output:  [0.9211969375610352, 0.054516032338142395, 0.005968860350549221, 0.009696687571704388, 0.025559263303875923, 0.045300789177417755, 0.003944020252674818, 0.17212501168251038, 0.0010355573613196611, 0.6086839437484741, 0.843278169631958, 0.00906907394528389, 0.03104047290980816]\n",
      "Predicted:  [1, 0, 0, 0, 0, 0, 0, 0, 0, 0, 1, 0, 0]\n",
      "Label:      [1, 1, 0, 0, 0, 0, 0, 1, 0, 1, 1, 0, 0]\n"
     ]
    },
    {
     "name": "stderr",
     "output_type": "stream",
     "text": [
      "Testing 🧐🧐: 100%|██████████| 10/10 [00:00<00:00, 46.17batch/s, loss=0.521]\n"
     ]
    },
    {
     "name": "stdout",
     "output_type": "stream",
     "text": [
      "Epoch 20, Loss: 0.4842, Accuracy: 0.7955, Test Loss: 0.5426, Test Accuracy: 0.7051\n",
      "\n",
      "writting\n"
     ]
    },
    {
     "name": "stderr",
     "output_type": "stream",
     "text": [
      "Training Epoch [21/30]: 100%|██████████| 39/39 [00:00<00:00, 46.60batch/s, loss=0.238] \n"
     ]
    },
    {
     "name": "stdout",
     "output_type": "stream",
     "text": [
      "output:  [0.009795676916837692, 0.9438470005989075, 0.2950853109359741, 0.30289149284362793, 0.5243100523948669, 0.9430443644523621, 0.6778594851493835, 0.9866132140159607, 0.004272411111742258, 0.06939051300287247, 0.5950818657875061, 0.5632432699203491, 0.95891273021698]\n",
      "Predicted:  [0, 1, 0, 0, 0, 1, 0, 1, 0, 0, 0, 0, 1]\n",
      "Label:      [0, 1, 0, 0, 1, 1, 1, 1, 0, 0, 1, 1, 1]\n"
     ]
    },
    {
     "name": "stderr",
     "output_type": "stream",
     "text": [
      "Testing 🧐🧐: 100%|██████████| 10/10 [00:00<00:00, 49.14batch/s, loss=1.05]\n"
     ]
    },
    {
     "name": "stdout",
     "output_type": "stream",
     "text": [
      "Epoch 21, Loss: 0.4954, Accuracy: 0.8052, Test Loss: 0.6907, Test Accuracy: 0.6538\n",
      "\n",
      "writting\n"
     ]
    },
    {
     "name": "stderr",
     "output_type": "stream",
     "text": [
      "Training Epoch [22/30]: 100%|██████████| 39/39 [00:00<00:00, 48.47batch/s, loss=0.137] \n"
     ]
    },
    {
     "name": "stdout",
     "output_type": "stream",
     "text": [
      "output:  [0.9456045031547546, 0.9087886214256287, 0.17260277271270752, 0.9169118404388428, 0.015128127299249172, 0.6997207403182983, 0.7451888918876648, 0.9886353015899658, 0.014165799133479595, 0.972082257270813, 0.9576800465583801, 0.1359543800354004, 0.6444687843322754]\n",
      "Predicted:  [1, 1, 0, 1, 0, 0, 1, 1, 0, 1, 1, 0, 0]\n",
      "Label:      [1, 1, 0, 1, 0, 1, 1, 1, 0, 1, 1, 0, 1]\n"
     ]
    },
    {
     "name": "stderr",
     "output_type": "stream",
     "text": [
      "Testing 🧐🧐: 100%|██████████| 10/10 [00:00<00:00, 46.16batch/s, loss=0.685]\n"
     ]
    },
    {
     "name": "stdout",
     "output_type": "stream",
     "text": [
      "Epoch 22, Loss: 0.4797, Accuracy: 0.7907, Test Loss: 0.4945, Test Accuracy: 0.7949\n",
      "\n",
      "writting\n"
     ]
    },
    {
     "name": "stderr",
     "output_type": "stream",
     "text": [
      "Training Epoch [23/30]: 100%|██████████| 39/39 [00:00<00:00, 49.31batch/s, loss=0.238]\n"
     ]
    },
    {
     "name": "stdout",
     "output_type": "stream",
     "text": [
      "output:  [0.03660980984568596, 0.4915913939476013, 0.48686566948890686, 0.050361182540655136, 0.040428247302770615, 0.022365594282746315, 0.030271191149950027, 0.04131579399108887, 0.09752364456653595, 0.9869382381439209, 0.3575705885887146, 0.9374526739120483, 0.7304623126983643]\n",
      "Predicted:  [0, 0, 0, 0, 0, 0, 0, 0, 0, 1, 0, 1, 1]\n",
      "Label:      [0, 0, 0, 0, 0, 0, 0, 0, 0, 1, 1, 1, 1]\n"
     ]
    },
    {
     "name": "stderr",
     "output_type": "stream",
     "text": [
      "Testing 🧐🧐: 100%|██████████| 10/10 [00:00<00:00, 48.87batch/s, loss=0.0581]\n"
     ]
    },
    {
     "name": "stdout",
     "output_type": "stream",
     "text": [
      "Epoch 23, Loss: 0.4465, Accuracy: 0.8052, Test Loss: 0.6793, Test Accuracy: 0.6538\n",
      "\n",
      "writting\n"
     ]
    },
    {
     "name": "stderr",
     "output_type": "stream",
     "text": [
      "Training Epoch [24/30]: 100%|██████████| 39/39 [00:00<00:00, 47.05batch/s, loss=0.816] \n"
     ]
    },
    {
     "name": "stdout",
     "output_type": "stream",
     "text": [
      "output:  [0.09029582142829895, 0.6754454374313354, 0.1268557906150818, 0.34158802032470703, 0.9355407953262329, 0.008150472305715084, 0.3482944071292877, 0.12737080454826355, 0.2907727062702179, 0.033177245408296585, 0.9188662767410278, 0.09543674439191818, 0.08688181638717651]\n",
      "Predicted:  [0, 0, 0, 0, 1, 0, 0, 0, 0, 0, 1, 0, 0]\n",
      "Label:      [0, 1, 0, 1, 1, 1, 0, 1, 1, 0, 1, 0, 0]\n"
     ]
    },
    {
     "name": "stderr",
     "output_type": "stream",
     "text": [
      "Testing 🧐🧐: 100%|██████████| 10/10 [00:00<00:00, 48.29batch/s, loss=0.681]\n"
     ]
    },
    {
     "name": "stdout",
     "output_type": "stream",
     "text": [
      "Epoch 24, Loss: 0.4474, Accuracy: 0.8003, Test Loss: 0.4865, Test Accuracy: 0.7756\n",
      "\n",
      "writting\n"
     ]
    },
    {
     "name": "stderr",
     "output_type": "stream",
     "text": [
      "Training Epoch [25/30]: 100%|██████████| 39/39 [00:00<00:00, 50.61batch/s, loss=0.244]\n"
     ]
    },
    {
     "name": "stdout",
     "output_type": "stream",
     "text": [
      "output:  [0.5817554593086243, 0.017411988228559494, 0.6203919053077698, 0.2955566644668579, 0.9972188472747803, 0.9918249249458313, 0.9918461441993713, 0.9380469918251038, 0.9455786347389221, 0.9776370525360107, 0.12470582872629166, 0.9961011409759521, 0.8788977861404419]\n",
      "Predicted:  [0, 0, 0, 0, 1, 1, 1, 1, 1, 1, 0, 1, 1]\n",
      "Label:      [1, 0, 0, 1, 1, 1, 1, 1, 1, 1, 0, 1, 1]\n"
     ]
    },
    {
     "name": "stderr",
     "output_type": "stream",
     "text": [
      "Testing 🧐🧐: 100%|██████████| 10/10 [00:00<00:00, 49.69batch/s, loss=0.796]\n"
     ]
    },
    {
     "name": "stdout",
     "output_type": "stream",
     "text": [
      "Epoch 25, Loss: 0.4289, Accuracy: 0.8100, Test Loss: 0.5219, Test Accuracy: 0.8077\n",
      "\n",
      "writting\n"
     ]
    },
    {
     "name": "stderr",
     "output_type": "stream",
     "text": [
      "Training Epoch [26/30]: 100%|██████████| 39/39 [00:00<00:00, 46.85batch/s, loss=0.881] \n"
     ]
    },
    {
     "name": "stdout",
     "output_type": "stream",
     "text": [
      "output:  [0.3237360119819641, 0.7293903827667236, 0.3328976631164551, 0.884904682636261, 0.9998252987861633, 0.9919251799583435, 0.035003237426280975, 0.2748255133628845, 0.5101341009140015, 0.14248128235340118, 0.05681904777884483, 0.017954358831048012, 0.5383741855621338]\n",
      "Predicted:  [0, 1, 0, 1, 1, 1, 0, 0, 0, 0, 0, 0, 0]\n",
      "Label:      [0, 0, 0, 0, 1, 1, 1, 0, 0, 1, 0, 0, 0]\n"
     ]
    },
    {
     "name": "stderr",
     "output_type": "stream",
     "text": [
      "Testing 🧐🧐: 100%|██████████| 10/10 [00:00<00:00, 44.58batch/s, loss=0.555]\n"
     ]
    },
    {
     "name": "stdout",
     "output_type": "stream",
     "text": [
      "Epoch 26, Loss: 0.4881, Accuracy: 0.7890, Test Loss: 0.6267, Test Accuracy: 0.8013\n",
      "\n",
      "writting\n"
     ]
    },
    {
     "name": "stderr",
     "output_type": "stream",
     "text": [
      "Training Epoch [27/30]: 100%|██████████| 39/39 [00:00<00:00, 48.72batch/s, loss=0.491]\n"
     ]
    },
    {
     "name": "stdout",
     "output_type": "stream",
     "text": [
      "output:  [0.9987585544586182, 0.9280107021331787, 0.9988576173782349, 0.5618147850036621, 0.14249925315380096, 0.08404888957738876, 0.02626706101000309, 0.5418227314949036, 0.9642729759216309, 0.9985740184783936, 0.3820633590221405, 0.18528693914413452, 0.08961216360330582]\n",
      "Predicted:  [1, 1, 1, 0, 0, 0, 0, 0, 1, 1, 0, 0, 0]\n",
      "Label:      [1, 1, 1, 0, 0, 0, 1, 0, 1, 1, 0, 0, 0]\n"
     ]
    },
    {
     "name": "stderr",
     "output_type": "stream",
     "text": [
      "Testing 🧐🧐: 100%|██████████| 10/10 [00:00<00:00, 49.35batch/s, loss=0.555]\n"
     ]
    },
    {
     "name": "stdout",
     "output_type": "stream",
     "text": [
      "Epoch 27, Loss: 0.5222, Accuracy: 0.7971, Test Loss: 0.7866, Test Accuracy: 0.7628\n",
      "\n",
      "writting\n"
     ]
    },
    {
     "name": "stderr",
     "output_type": "stream",
     "text": [
      "Training Epoch [28/30]: 100%|██████████| 39/39 [00:00<00:00, 48.82batch/s, loss=1.12]  \n"
     ]
    },
    {
     "name": "stdout",
     "output_type": "stream",
     "text": [
      "output:  [0.939596951007843, 0.0015847213799133897, 0.16753146052360535, 0.4353431463241577, 0.023056160658597946, 0.001167135313153267, 0.024041801691055298, 0.0018048236379399896, 0.02076553925871849, 0.0010428691748529673, 0.6583980917930603, 0.9203864932060242, 0.9933739900588989]\n",
      "Predicted:  [1, 0, 0, 0, 0, 0, 0, 0, 0, 0, 0, 1, 1]\n",
      "Label:      [1, 0, 0, 0, 0, 0, 0, 1, 0, 1, 1, 1, 1]\n"
     ]
    },
    {
     "name": "stderr",
     "output_type": "stream",
     "text": [
      "Testing 🧐🧐: 100%|██████████| 10/10 [00:00<00:00, 47.70batch/s, loss=0.462]\n"
     ]
    },
    {
     "name": "stdout",
     "output_type": "stream",
     "text": [
      "Epoch 28, Loss: 0.5457, Accuracy: 0.7923, Test Loss: 0.5192, Test Accuracy: 0.8077\n",
      "\n",
      "writting\n"
     ]
    },
    {
     "name": "stderr",
     "output_type": "stream",
     "text": [
      "Training Epoch [29/30]: 100%|██████████| 39/39 [00:00<00:00, 48.72batch/s, loss=0.431] \n"
     ]
    },
    {
     "name": "stdout",
     "output_type": "stream",
     "text": [
      "output:  [0.9854132533073425, 0.3447032868862152, 0.9687283039093018, 0.8484850525856018, 0.7423609495162964, 0.9803429245948792, 0.9995206594467163, 0.44542941451072693, 0.9978272318840027, 0.9989961981773376, 0.7012336850166321, 0.07224162667989731, 0.9999176263809204]\n",
      "Predicted:  [1, 0, 1, 1, 1, 1, 1, 0, 1, 1, 1, 0, 1]\n",
      "Label:      [1, 0, 1, 0, 0, 1, 1, 0, 1, 1, 0, 0, 1]\n"
     ]
    },
    {
     "name": "stderr",
     "output_type": "stream",
     "text": [
      "Testing 🧐🧐: 100%|██████████| 10/10 [00:00<00:00, 49.56batch/s, loss=0.974]\n"
     ]
    },
    {
     "name": "stdout",
     "output_type": "stream",
     "text": [
      "Epoch 29, Loss: 0.5045, Accuracy: 0.7826, Test Loss: 0.7190, Test Accuracy: 0.7500\n",
      "\n",
      "writting\n"
     ]
    },
    {
     "name": "stderr",
     "output_type": "stream",
     "text": [
      "Training Epoch [30/30]: 100%|██████████| 39/39 [00:00<00:00, 46.94batch/s, loss=0.152]\n"
     ]
    },
    {
     "name": "stdout",
     "output_type": "stream",
     "text": [
      "output:  [0.9946342706680298, 0.9648610353469849, 0.50985187292099, 0.3798843026161194, 0.9913512468338013, 0.03214523568749428, 0.9990046620368958, 0.07313676923513412, 0.10870497673749924, 0.9990610480308533, 0.18451693654060364, 0.7372575402259827, 0.9970715045928955]\n",
      "Predicted:  [1, 1, 0, 0, 1, 0, 1, 0, 0, 1, 0, 1, 1]\n",
      "Label:      [1, 1, 0, 0, 1, 0, 1, 0, 0, 1, 0, 1, 1]\n"
     ]
    },
    {
     "name": "stderr",
     "output_type": "stream",
     "text": [
      "Testing 🧐🧐: 100%|██████████| 10/10 [00:00<00:00, 49.49batch/s, loss=0.848]"
     ]
    },
    {
     "name": "stdout",
     "output_type": "stream",
     "text": [
      "Epoch 30, Loss: 0.4907, Accuracy: 0.7955, Test Loss: 0.5266, Test Accuracy: 0.7885\n",
      "\n",
      "writting\n"
     ]
    },
    {
     "name": "stderr",
     "output_type": "stream",
     "text": [
      "\n"
     ]
    }
   ],
   "source": [
    "writer = SummaryWriter(log_dir='runs/nn')\n",
    "\n",
    "nn_model = NN() \n",
    "loss_fn = nn.BCELoss()\n",
    "optimizer = torch.optim.Adam(nn_model.parameters(), lr=0.01)\n",
    "\n",
    "class_names = [f'{x}' for x in range(2)]\n",
    "train_loader, test_loader = load_data('thai-handwriting-number.appspot.com',class_names)\n",
    "\n",
    "device = 'cpu'\n",
    "\n",
    "nn_history = train(\n",
    "    class_names,\n",
    "    nn_model,\n",
    "    optimizer,\n",
    "    loss_fn,\n",
    "    train_loader,\n",
    "    test_loader,\n",
    "    epochs=30,\n",
    "    writer=writer,\n",
    "    checkpoint_path=\"checkpoints/nn_model\",\n",
    "    device=device,\n",
    ")"
   ]
  },
  {
   "cell_type": "code",
   "execution_count": null,
   "metadata": {},
   "outputs": [
    {
     "name": "stdout",
     "output_type": "stream",
     "text": [
      "Train Dataset:\n",
      "\tNumber of images in class 0: 310\n",
      "\tNumber of images in class 1: 311\n",
      "\tNumber of train samples: 621\n",
      "Test Dataset:\n",
      "\tNumber of images in class 0: 78\n",
      "\tNumber of images in class 1: 78\n",
      "\tNumber of test samples: 156\n"
     ]
    },
    {
     "data": {
      "image/png": "[encoded data removed]",
      "text/plain": [
       "<Figure size 1000x1000 with 32 Axes>"
      ]
     },
     "metadata": {},
     "output_type": "display_data"
    },
    {
     "name": "stdout",
     "output_type": "stream",
     "text": [
      "😎✨ Training on 20250727_165940  cpu\n"
     ]
    },
    {
     "name": "stderr",
     "output_type": "stream",
     "text": [
      "Training Epoch [1/30]: 100%|██████████| 39/39 [00:00<00:00, 39.89batch/s, loss=0.629]\n"
     ]
    },
    {
     "name": "stdout",
     "output_type": "stream",
     "text": [
      "output:  [0.4513457715511322, 0.42932194471359253, 0.6261366605758667, 0.4322480261325836, 0.4523737132549286, 0.45301470160484314, 0.5004523396492004, 0.40197134017944336, 0.39611318707466125, 0.5539423227310181, 0.4262813329696655, 0.435791939496994, 0.5307578444480896]\n",
      "Predicted:  [0, 0, 0, 0, 0, 0, 0, 0, 0, 0, 0, 0, 0]\n",
      "Label:      [0, 0, 1, 0, 0, 0, 1, 0, 1, 1, 1, 0, 1]\n"
     ]
    },
    {
     "name": "stderr",
     "output_type": "stream",
     "text": [
      "Testing 🧐🧐: 100%|██████████| 10/10 [00:00<00:00, 48.38batch/s, loss=0.739]\n"
     ]
    },
    {
     "name": "stdout",
     "output_type": "stream",
     "text": [
      "Epoch 1, Loss: 0.6936, Accuracy: 0.4992, Test Loss: 0.6610, Test Accuracy: 0.5000\n",
      "\n",
      "writting\n"
     ]
    },
    {
     "name": "stderr",
     "output_type": "stream",
     "text": [
      "Training Epoch [2/30]: 100%|██████████| 39/39 [00:00<00:00, 45.00batch/s, loss=0.545]\n"
     ]
    },
    {
     "name": "stdout",
     "output_type": "stream",
     "text": [
      "output:  [0.4703741669654846, 0.8256067037582397, 0.43012043833732605, 0.21629922091960907, 0.27489206194877625, 0.7753004431724548, 0.19248181581497192, 0.6952080130577087, 0.27606362104415894, 0.38814449310302734, 0.8374433517456055, 0.4954823851585388, 0.702004075050354]\n",
      "Predicted:  [0, 1, 0, 0, 0, 1, 0, 0, 0, 0, 1, 0, 1]\n",
      "Label:      [1, 1, 0, 1, 0, 1, 0, 1, 0, 0, 1, 0, 0]\n"
     ]
    },
    {
     "name": "stderr",
     "output_type": "stream",
     "text": [
      "Testing 🧐🧐: 100%|██████████| 10/10 [00:00<00:00, 43.88batch/s, loss=0.368]\n"
     ]
    },
    {
     "name": "stdout",
     "output_type": "stream",
     "text": [
      "Epoch 2, Loss: 0.5801, Accuracy: 0.5942, Test Loss: 0.5258, Test Accuracy: 0.7628\n",
      "\n",
      "writting\n"
     ]
    },
    {
     "name": "stderr",
     "output_type": "stream",
     "text": [
      "Training Epoch [3/30]: 100%|██████████| 39/39 [00:00<00:00, 44.49batch/s, loss=0.494]\n"
     ]
    },
    {
     "name": "stdout",
     "output_type": "stream",
     "text": [
      "output:  [0.968464732170105, 0.6552935242652893, 0.8304556608200073, 0.8818563222885132, 0.7282658815383911, 0.9545086026191711, 0.6732817888259888, 0.9128038287162781, 0.6556169986724854, 0.6825372576713562, 0.6261498332023621, 0.8284582495689392, 0.9457895159721375]\n",
      "Predicted:  [1, 0, 1, 1, 1, 1, 0, 1, 0, 0, 0, 1, 1]\n",
      "Label:      [1, 0, 1, 1, 1, 1, 0, 1, 0, 0, 0, 1, 1]\n"
     ]
    },
    {
     "name": "stderr",
     "output_type": "stream",
     "text": [
      "Testing 🧐🧐: 100%|██████████| 10/10 [00:00<00:00, 44.62batch/s, loss=0.801]\n"
     ]
    },
    {
     "name": "stdout",
     "output_type": "stream",
     "text": [
      "Epoch 3, Loss: 0.5535, Accuracy: 0.7182, Test Loss: 0.6721, Test Accuracy: 0.7885\n",
      "\n",
      "writting\n"
     ]
    },
    {
     "name": "stderr",
     "output_type": "stream",
     "text": [
      "Training Epoch [4/30]: 100%|██████████| 39/39 [00:00<00:00, 41.88batch/s, loss=0.675]\n"
     ]
    },
    {
     "name": "stdout",
     "output_type": "stream",
     "text": [
      "output:  [0.9808965921401978, 0.7035212516784668, 0.7998495697975159, 0.5562093257904053, 0.8722516298294067, 0.8429496884346008, 0.2530628442764282, 0.6023107171058655, 0.9781360030174255, 0.42722755670547485, 0.25312745571136475, 0.15409111976623535, 0.33813419938087463]\n",
      "Predicted:  [1, 1, 1, 0, 1, 1, 0, 0, 1, 0, 0, 0, 0]\n",
      "Label:      [1, 0, 0, 1, 1, 1, 0, 1, 1, 0, 1, 1, 0]\n"
     ]
    },
    {
     "name": "stderr",
     "output_type": "stream",
     "text": [
      "Testing 🧐🧐: 100%|██████████| 10/10 [00:00<00:00, 44.25batch/s, loss=0.531]\n"
     ]
    },
    {
     "name": "stdout",
     "output_type": "stream",
     "text": [
      "Epoch 4, Loss: 0.4848, Accuracy: 0.7327, Test Loss: 0.5061, Test Accuracy: 0.7692\n",
      "\n",
      "writting\n"
     ]
    },
    {
     "name": "stderr",
     "output_type": "stream",
     "text": [
      "Training Epoch [5/30]: 100%|██████████| 39/39 [00:00<00:00, 40.81batch/s, loss=0.573]\n"
     ]
    },
    {
     "name": "stdout",
     "output_type": "stream",
     "text": [
      "output:  [0.9273738861083984, 0.9495236873626709, 0.5960091352462769, 0.293704628944397, 0.5061392188072205, 0.19335900247097015, 0.10884182155132294, 0.3437798023223877, 0.33054134249687195, 0.9804039597511292, 0.8794530034065247, 0.12728072702884674, 0.1435278058052063]\n",
      "Predicted:  [1, 1, 0, 0, 0, 0, 0, 0, 0, 1, 1, 0, 0]\n",
      "Label:      [1, 1, 1, 1, 0, 0, 0, 1, 1, 1, 1, 1, 0]\n"
     ]
    },
    {
     "name": "stderr",
     "output_type": "stream",
     "text": [
      "Testing 🧐🧐: 100%|██████████| 10/10 [00:00<00:00, 42.95batch/s, loss=0.663]\n"
     ]
    },
    {
     "name": "stdout",
     "output_type": "stream",
     "text": [
      "Epoch 5, Loss: 0.4433, Accuracy: 0.7826, Test Loss: 0.4234, Test Accuracy: 0.7692\n",
      "\n",
      "writting\n"
     ]
    },
    {
     "name": "stderr",
     "output_type": "stream",
     "text": [
      "Training Epoch [6/30]: 100%|██████████| 39/39 [00:00<00:00, 39.06batch/s, loss=0.541]\n"
     ]
    },
    {
     "name": "stdout",
     "output_type": "stream",
     "text": [
      "output:  [0.16734914481639862, 0.22514846920967102, 0.08003979176282883, 0.10196024924516678, 0.8374386429786682, 0.11966686695814133, 0.7261207103729248, 0.9677631855010986, 0.08003979176282883, 0.19941827654838562, 0.11583676189184189, 0.11749270558357239, 0.11753864586353302]\n",
      "Predicted:  [0, 0, 0, 0, 1, 0, 1, 1, 0, 0, 0, 0, 0]\n",
      "Label:      [0, 1, 0, 0, 1, 0, 1, 1, 1, 1, 0, 0, 0]\n"
     ]
    },
    {
     "name": "stderr",
     "output_type": "stream",
     "text": [
      "Testing 🧐🧐: 100%|██████████| 10/10 [00:00<00:00, 43.21batch/s, loss=0.451]\n"
     ]
    },
    {
     "name": "stdout",
     "output_type": "stream",
     "text": [
      "Epoch 6, Loss: 0.4373, Accuracy: 0.7842, Test Loss: 0.5088, Test Accuracy: 0.6474\n",
      "\n",
      "writting\n"
     ]
    },
    {
     "name": "stderr",
     "output_type": "stream",
     "text": [
      "Training Epoch [7/30]: 100%|██████████| 39/39 [00:00<00:00, 43.86batch/s, loss=0.688]\n"
     ]
    },
    {
     "name": "stdout",
     "output_type": "stream",
     "text": [
      "output:  [0.2741377055644989, 0.35381272435188293, 0.6995764970779419, 0.20912659168243408, 0.830711841583252, 0.15802451968193054, 0.08048950135707855, 0.1527712494134903, 0.13530299067497253, 0.8861123919487, 0.16126887500286102, 0.08048950135707855, 0.9850319623947144]\n",
      "Predicted:  [0, 0, 0, 0, 1, 0, 0, 0, 0, 1, 0, 0, 1]\n",
      "Label:      [1, 1, 1, 0, 1, 0, 1, 0, 0, 1, 0, 1, 1]\n"
     ]
    },
    {
     "name": "stderr",
     "output_type": "stream",
     "text": [
      "Testing 🧐🧐: 100%|██████████| 10/10 [00:00<00:00, 48.42batch/s, loss=0.668]\n"
     ]
    },
    {
     "name": "stdout",
     "output_type": "stream",
     "text": [
      "Epoch 7, Loss: 0.4361, Accuracy: 0.7890, Test Loss: 0.4730, Test Accuracy: 0.7115\n",
      "\n",
      "writting\n"
     ]
    },
    {
     "name": "stderr",
     "output_type": "stream",
     "text": [
      "Training Epoch [8/30]: 100%|██████████| 39/39 [00:00<00:00, 41.87batch/s, loss=0.391]\n"
     ]
    },
    {
     "name": "stdout",
     "output_type": "stream",
     "text": [
      "output:  [0.9826955795288086, 0.7213428020477295, 0.2657891511917114, 0.23323196172714233, 0.2083001285791397, 0.09165582060813904, 0.39299532771110535, 0.2702726125717163, 0.2757738530635834, 0.9317838549613953, 0.38122978806495667, 0.269942969083786, 0.44160428643226624]\n",
      "Predicted:  [1, 1, 0, 0, 0, 0, 0, 0, 0, 1, 0, 0, 0]\n",
      "Label:      [1, 1, 1, 0, 0, 0, 0, 0, 0, 1, 0, 0, 1]\n"
     ]
    },
    {
     "name": "stderr",
     "output_type": "stream",
     "text": [
      "Testing 🧐🧐: 100%|██████████| 10/10 [00:00<00:00, 46.21batch/s, loss=0.48]\n"
     ]
    },
    {
     "name": "stdout",
     "output_type": "stream",
     "text": [
      "Epoch 8, Loss: 0.4018, Accuracy: 0.8148, Test Loss: 0.4622, Test Accuracy: 0.7372\n",
      "\n",
      "writting\n"
     ]
    },
    {
     "name": "stderr",
     "output_type": "stream",
     "text": [
      "Training Epoch [9/30]: 100%|██████████| 39/39 [00:00<00:00, 42.53batch/s, loss=0.317]\n"
     ]
    },
    {
     "name": "stdout",
     "output_type": "stream",
     "text": [
      "output:  [0.3927878141403198, 0.17565453052520752, 0.14162983000278473, 0.3958522081375122, 0.893640398979187, 0.4712476134300232, 0.5382304787635803, 0.27368056774139404, 0.680686354637146, 0.9468591809272766, 0.9488234519958496, 0.12413640320301056, 0.7109273076057434]\n",
      "Predicted:  [0, 0, 0, 0, 1, 0, 0, 0, 0, 1, 1, 0, 1]\n",
      "Label:      [0, 0, 0, 0, 1, 1, 1, 0, 1, 1, 1, 0, 1]\n"
     ]
    },
    {
     "name": "stderr",
     "output_type": "stream",
     "text": [
      "Testing 🧐🧐: 100%|██████████| 10/10 [00:00<00:00, 43.52batch/s, loss=0.518]\n"
     ]
    },
    {
     "name": "stdout",
     "output_type": "stream",
     "text": [
      "Epoch 9, Loss: 0.4565, Accuracy: 0.7762, Test Loss: 0.4284, Test Accuracy: 0.8205\n",
      "\n",
      "writting\n"
     ]
    },
    {
     "name": "stderr",
     "output_type": "stream",
     "text": [
      "Training Epoch [10/30]: 100%|██████████| 39/39 [00:00<00:00, 40.39batch/s, loss=0.475]\n"
     ]
    },
    {
     "name": "stdout",
     "output_type": "stream",
     "text": [
      "output:  [0.07694893330335617, 0.38358327746391296, 0.6727227568626404, 0.12589812278747559, 0.5678300261497498, 0.6028835773468018, 0.2204173505306244, 0.21716979146003723, 0.23877400159835815, 0.2909668982028961, 0.9675795435905457, 0.629950761795044, 0.33483004570007324]\n",
      "Predicted:  [0, 0, 0, 0, 0, 0, 0, 0, 0, 0, 1, 0, 0]\n",
      "Label:      [0, 0, 1, 0, 1, 0, 0, 0, 0, 1, 1, 1, 1]\n"
     ]
    },
    {
     "name": "stderr",
     "output_type": "stream",
     "text": [
      "Testing 🧐🧐: 100%|██████████| 10/10 [00:00<00:00, 43.59batch/s, loss=0.312]\n"
     ]
    },
    {
     "name": "stdout",
     "output_type": "stream",
     "text": [
      "Epoch 10, Loss: 0.4170, Accuracy: 0.7955, Test Loss: 0.4637, Test Accuracy: 0.6795\n",
      "\n",
      "writting\n"
     ]
    },
    {
     "name": "stderr",
     "output_type": "stream",
     "text": [
      "Training Epoch [11/30]: 100%|██████████| 39/39 [00:00<00:00, 41.83batch/s, loss=0.269]\n"
     ]
    },
    {
     "name": "stdout",
     "output_type": "stream",
     "text": [
      "output:  [0.05323394760489464, 0.0785958394408226, 0.579346239566803, 0.6028879284858704, 0.3145935833454132, 0.9423824548721313, 0.7532334923744202, 0.11686381697654724, 0.996246874332428, 0.948975682258606, 0.976244330406189, 0.84163498878479, 0.9792704582214355]\n",
      "Predicted:  [0, 0, 0, 0, 0, 1, 1, 0, 1, 1, 1, 1, 1]\n",
      "Label:      [0, 0, 1, 0, 1, 1, 1, 0, 1, 1, 1, 1, 1]\n"
     ]
    },
    {
     "name": "stderr",
     "output_type": "stream",
     "text": [
      "Testing 🧐🧐: 100%|██████████| 10/10 [00:00<00:00, 47.69batch/s, loss=0.463]\n"
     ]
    },
    {
     "name": "stdout",
     "output_type": "stream",
     "text": [
      "Epoch 11, Loss: 0.3847, Accuracy: 0.8229, Test Loss: 0.4577, Test Accuracy: 0.7564\n",
      "\n",
      "writting\n"
     ]
    },
    {
     "name": "stderr",
     "output_type": "stream",
     "text": [
      "Training Epoch [12/30]: 100%|██████████| 39/39 [00:00<00:00, 41.38batch/s, loss=0.378]\n"
     ]
    },
    {
     "name": "stdout",
     "output_type": "stream",
     "text": [
      "output:  [0.5394785404205322, 0.9976504445075989, 0.43412816524505615, 0.6974184513092041, 0.9658072590827942, 0.9987878203392029, 0.6851068139076233, 0.12258298695087433, 0.0978316143155098, 0.6641321182250977, 0.9976963400840759, 0.9455962181091309, 0.11831425130367279]\n",
      "Predicted:  [0, 1, 0, 0, 1, 1, 0, 0, 0, 0, 1, 1, 0]\n",
      "Label:      [0, 1, 0, 1, 1, 1, 1, 1, 0, 1, 1, 1, 0]\n"
     ]
    },
    {
     "name": "stderr",
     "output_type": "stream",
     "text": [
      "Testing 🧐🧐: 100%|██████████| 10/10 [00:00<00:00, 52.18batch/s, loss=0.319]\n"
     ]
    },
    {
     "name": "stdout",
     "output_type": "stream",
     "text": [
      "Epoch 12, Loss: 0.4036, Accuracy: 0.8003, Test Loss: 0.4318, Test Accuracy: 0.8013\n",
      "\n",
      "writting\n"
     ]
    },
    {
     "name": "stderr",
     "output_type": "stream",
     "text": [
      "Training Epoch [13/30]: 100%|██████████| 39/39 [00:00<00:00, 41.64batch/s, loss=0.302]\n"
     ]
    },
    {
     "name": "stdout",
     "output_type": "stream",
     "text": [
      "output:  [0.33005815744400024, 0.9790072441101074, 0.25524261593818665, 0.9761272072792053, 0.19481568038463593, 0.29516279697418213, 0.25944551825523376, 0.7259600758552551, 0.25581106543540955, 0.9651561379432678, 0.23268139362335205, 0.23804979026317596, 0.32243895530700684]\n",
      "Predicted:  [0, 1, 0, 1, 0, 0, 0, 1, 0, 1, 0, 0, 0]\n",
      "Label:      [0, 1, 0, 1, 0, 0, 0, 1, 0, 1, 0, 0, 1]\n"
     ]
    },
    {
     "name": "stderr",
     "output_type": "stream",
     "text": [
      "Testing 🧐🧐: 100%|██████████| 10/10 [00:00<00:00, 47.18batch/s, loss=0.404]\n"
     ]
    },
    {
     "name": "stdout",
     "output_type": "stream",
     "text": [
      "Epoch 13, Loss: 0.4195, Accuracy: 0.8068, Test Loss: 0.4521, Test Accuracy: 0.7821\n",
      "\n",
      "writting\n"
     ]
    },
    {
     "name": "stderr",
     "output_type": "stream",
     "text": [
      "Training Epoch [14/30]: 100%|██████████| 39/39 [00:00<00:00, 44.12batch/s, loss=0.664]\n"
     ]
    },
    {
     "name": "stdout",
     "output_type": "stream",
     "text": [
      "output:  [0.9763437509536743, 0.7375638484954834, 0.061921343207359314, 0.1056772768497467, 0.061921343207359314, 0.7990601658821106, 0.23897910118103027, 0.34771528840065, 0.944229006767273, 0.7017057538032532, 0.1171281561255455, 0.5605875253677368, 0.5928400158882141]\n",
      "Predicted:  [1, 1, 0, 0, 0, 1, 0, 0, 1, 1, 0, 0, 0]\n",
      "Label:      [1, 0, 0, 0, 1, 0, 0, 0, 1, 1, 0, 1, 0]\n"
     ]
    },
    {
     "name": "stderr",
     "output_type": "stream",
     "text": [
      "Testing 🧐🧐: 100%|██████████| 10/10 [00:00<00:00, 44.48batch/s, loss=0.128]\n"
     ]
    },
    {
     "name": "stdout",
     "output_type": "stream",
     "text": [
      "Epoch 14, Loss: 0.3816, Accuracy: 0.8213, Test Loss: 0.3843, Test Accuracy: 0.8141\n",
      "\n",
      "writting\n"
     ]
    },
    {
     "name": "stderr",
     "output_type": "stream",
     "text": [
      "Training Epoch [15/30]: 100%|██████████| 39/39 [00:00<00:00, 39.77batch/s, loss=0.44] \n"
     ]
    },
    {
     "name": "stdout",
     "output_type": "stream",
     "text": [
      "output:  [0.2716227173805237, 0.8832709789276123, 0.36121267080307007, 0.7593477964401245, 0.9841746687889099, 0.1402018666267395, 0.21745002269744873, 0.07340312749147415, 0.97695392370224, 0.22385552525520325, 0.9983696341514587, 0.728137731552124, 0.7371566295623779]\n",
      "Predicted:  [0, 1, 0, 1, 1, 0, 0, 0, 1, 0, 1, 1, 1]\n",
      "Label:      [0, 1, 0, 0, 1, 0, 0, 0, 1, 0, 1, 0, 0]\n"
     ]
    },
    {
     "name": "stderr",
     "output_type": "stream",
     "text": [
      "Testing 🧐🧐: 100%|██████████| 10/10 [00:00<00:00, 51.42batch/s, loss=0.307]\n"
     ]
    },
    {
     "name": "stdout",
     "output_type": "stream",
     "text": [
      "Epoch 15, Loss: 0.4002, Accuracy: 0.8084, Test Loss: 0.4123, Test Accuracy: 0.8077\n",
      "\n",
      "writting\n"
     ]
    },
    {
     "name": "stderr",
     "output_type": "stream",
     "text": [
      "Training Epoch [16/30]: 100%|██████████| 39/39 [00:00<00:00, 40.45batch/s, loss=0.261]\n"
     ]
    },
    {
     "name": "stdout",
     "output_type": "stream",
     "text": [
      "output:  [0.9797486662864685, 0.7829145193099976, 0.8514306545257568, 0.1949208378791809, 0.8866328597068787, 0.1450347751379013, 0.9969218373298645, 0.9713773727416992, 0.6243093609809875, 0.35299980640411377, 0.9918662905693054, 0.9867580533027649, 0.6334525942802429]\n",
      "Predicted:  [1, 1, 1, 0, 1, 0, 1, 1, 0, 0, 1, 1, 0]\n",
      "Label:      [1, 1, 1, 0, 1, 0, 1, 1, 0, 0, 1, 1, 0]\n"
     ]
    },
    {
     "name": "stderr",
     "output_type": "stream",
     "text": [
      "Testing 🧐🧐: 100%|██████████| 10/10 [00:00<00:00, 50.06batch/s, loss=0.222]\n"
     ]
    },
    {
     "name": "stdout",
     "output_type": "stream",
     "text": [
      "Epoch 16, Loss: 0.3700, Accuracy: 0.8068, Test Loss: 0.3858, Test Accuracy: 0.8141\n",
      "\n",
      "writting\n"
     ]
    },
    {
     "name": "stderr",
     "output_type": "stream",
     "text": [
      "Training Epoch [17/30]: 100%|██████████| 39/39 [00:00<00:00, 41.13batch/s, loss=0.57] \n"
     ]
    },
    {
     "name": "stdout",
     "output_type": "stream",
     "text": [
      "output:  [0.5052171945571899, 0.9380803108215332, 0.10706179589033127, 0.9141402244567871, 0.09389415383338928, 0.501249372959137, 0.8382418155670166, 0.12635645270347595, 0.7196470499038696, 0.30444228649139404, 0.9938521385192871, 0.9091755151748657, 0.1045384332537651]\n",
      "Predicted:  [0, 1, 0, 1, 0, 0, 1, 0, 1, 0, 1, 1, 0]\n",
      "Label:      [0, 1, 1, 1, 0, 0, 1, 0, 1, 0, 1, 0, 0]\n"
     ]
    },
    {
     "name": "stderr",
     "output_type": "stream",
     "text": [
      "Testing 🧐🧐: 100%|██████████| 10/10 [00:00<00:00, 47.87batch/s, loss=0.596]\n"
     ]
    },
    {
     "name": "stdout",
     "output_type": "stream",
     "text": [
      "Epoch 17, Loss: 0.3824, Accuracy: 0.8019, Test Loss: 0.4553, Test Accuracy: 0.8526\n",
      "\n",
      "writting\n"
     ]
    },
    {
     "name": "stderr",
     "output_type": "stream",
     "text": [
      "Training Epoch [18/30]: 100%|██████████| 39/39 [00:00<00:00, 40.84batch/s, loss=0.255]\n"
     ]
    },
    {
     "name": "stdout",
     "output_type": "stream",
     "text": [
      "output:  [0.6197422742843628, 0.2626780867576599, 0.1782795637845993, 0.15832412242889404, 0.21078570187091827, 0.8560208678245544, 0.994408905506134, 0.34383338689804077, 0.5570923686027527, 0.10295337438583374, 0.04738273471593857, 0.10527537763118744, 0.38725757598876953]\n",
      "Predicted:  [0, 0, 0, 0, 0, 1, 1, 0, 0, 0, 0, 0, 0]\n",
      "Label:      [1, 0, 0, 0, 0, 1, 1, 0, 1, 0, 0, 0, 0]\n"
     ]
    },
    {
     "name": "stderr",
     "output_type": "stream",
     "text": [
      "Testing 🧐🧐: 100%|██████████| 10/10 [00:00<00:00, 46.77batch/s, loss=0.413]\n"
     ]
    },
    {
     "name": "stdout",
     "output_type": "stream",
     "text": [
      "Epoch 18, Loss: 0.4379, Accuracy: 0.7939, Test Loss: 0.4446, Test Accuracy: 0.7821\n",
      "\n",
      "writting\n"
     ]
    },
    {
     "name": "stderr",
     "output_type": "stream",
     "text": [
      "Training Epoch [19/30]: 100%|██████████| 39/39 [00:00<00:00, 42.90batch/s, loss=0.365]\n"
     ]
    },
    {
     "name": "stdout",
     "output_type": "stream",
     "text": [
      "output:  [0.19958916306495667, 0.8592703342437744, 0.20327748358249664, 0.24026499688625336, 0.20905709266662598, 0.2828660309314728, 0.46112293004989624, 0.2623053789138794, 0.15396282076835632, 0.3230658769607544, 0.2803678512573242, 0.9934872388839722, 0.1604984700679779]\n",
      "Predicted:  [0, 1, 0, 0, 0, 0, 0, 0, 0, 0, 0, 1, 0]\n",
      "Label:      [0, 1, 0, 1, 0, 0, 1, 0, 0, 0, 0, 1, 0]\n"
     ]
    },
    {
     "name": "stderr",
     "output_type": "stream",
     "text": [
      "Testing 🧐🧐: 100%|██████████| 10/10 [00:00<00:00, 46.86batch/s, loss=0.201]\n"
     ]
    },
    {
     "name": "stdout",
     "output_type": "stream",
     "text": [
      "Epoch 19, Loss: 0.3998, Accuracy: 0.8084, Test Loss: 0.4233, Test Accuracy: 0.7692\n",
      "\n",
      "writting\n"
     ]
    },
    {
     "name": "stderr",
     "output_type": "stream",
     "text": [
      "Training Epoch [20/30]: 100%|██████████| 39/39 [00:00<00:00, 40.90batch/s, loss=0.53] \n"
     ]
    },
    {
     "name": "stdout",
     "output_type": "stream",
     "text": [
      "output:  [0.2113523632287979, 0.8119977116584778, 0.077430360019207, 0.18308337032794952, 0.08302511274814606, 0.9669756889343262, 0.1304985135793686, 0.6054075360298157, 0.1229599341750145, 0.8598368763923645, 0.12947985529899597, 0.7945915460586548, 0.10956299304962158]\n",
      "Predicted:  [0, 1, 0, 0, 0, 1, 0, 0, 0, 1, 0, 1, 0]\n",
      "Label:      [0, 0, 0, 0, 0, 1, 0, 1, 0, 0, 0, 0, 0]\n"
     ]
    },
    {
     "name": "stderr",
     "output_type": "stream",
     "text": [
      "Testing 🧐🧐: 100%|██████████| 10/10 [00:00<00:00, 46.92batch/s, loss=0.248]\n"
     ]
    },
    {
     "name": "stdout",
     "output_type": "stream",
     "text": [
      "Epoch 20, Loss: 0.3462, Accuracy: 0.8390, Test Loss: 0.3828, Test Accuracy: 0.8141\n",
      "\n",
      "writting\n"
     ]
    },
    {
     "name": "stderr",
     "output_type": "stream",
     "text": [
      "Training Epoch [21/30]: 100%|██████████| 39/39 [00:00<00:00, 41.76batch/s, loss=0.355]\n"
     ]
    },
    {
     "name": "stdout",
     "output_type": "stream",
     "text": [
      "output:  [0.2571817934513092, 0.45822620391845703, 0.5567517280578613, 0.1918564885854721, 0.11199114471673965, 0.29228752851486206, 0.7611200213432312, 0.995726466178894, 0.7192895412445068, 0.8100525736808777, 0.8740702867507935, 0.1274276226758957, 0.2563666105270386]\n",
      "Predicted:  [0, 0, 0, 0, 0, 0, 1, 1, 1, 1, 1, 0, 0]\n",
      "Label:      [1, 0, 1, 0, 0, 0, 1, 1, 1, 1, 1, 0, 0]\n"
     ]
    },
    {
     "name": "stderr",
     "output_type": "stream",
     "text": [
      "Testing 🧐🧐: 100%|██████████| 10/10 [00:00<00:00, 46.04batch/s, loss=0.501]\n"
     ]
    },
    {
     "name": "stdout",
     "output_type": "stream",
     "text": [
      "Epoch 21, Loss: 0.3485, Accuracy: 0.8309, Test Loss: 0.4092, Test Accuracy: 0.8397\n",
      "\n",
      "writting\n"
     ]
    },
    {
     "name": "stderr",
     "output_type": "stream",
     "text": [
      "Training Epoch [22/30]: 100%|██████████| 39/39 [00:00<00:00, 39.72batch/s, loss=0.307]\n"
     ]
    },
    {
     "name": "stdout",
     "output_type": "stream",
     "text": [
      "output:  [0.9330996870994568, 0.9953096508979797, 0.8656147122383118, 0.9173473715782166, 0.10175738483667374, 0.9832739233970642, 0.38386398553848267, 0.9996799230575562, 0.15874271094799042, 0.9393815994262695, 0.28316015005111694, 0.4534338712692261, 0.04119323194026947]\n",
      "Predicted:  [1, 1, 1, 1, 0, 1, 0, 1, 0, 1, 0, 0, 0]\n",
      "Label:      [1, 1, 0, 1, 0, 1, 0, 1, 0, 1, 0, 0, 0]\n"
     ]
    },
    {
     "name": "stderr",
     "output_type": "stream",
     "text": [
      "Testing 🧐🧐: 100%|██████████| 10/10 [00:00<00:00, 44.91batch/s, loss=0.443]\n"
     ]
    },
    {
     "name": "stdout",
     "output_type": "stream",
     "text": [
      "Epoch 22, Loss: 0.3375, Accuracy: 0.8341, Test Loss: 0.4172, Test Accuracy: 0.8269\n",
      "\n",
      "writting\n"
     ]
    },
    {
     "name": "stderr",
     "output_type": "stream",
     "text": [
      "Training Epoch [23/30]: 100%|██████████| 39/39 [00:00<00:00, 42.28batch/s, loss=0.132]\n"
     ]
    },
    {
     "name": "stdout",
     "output_type": "stream",
     "text": [
      "output:  [0.05082890763878822, 0.05953409895300865, 0.9887974858283997, 0.12404375523328781, 0.8995629549026489, 0.15990771353244781, 0.07941197603940964, 0.76454097032547, 0.7775018811225891, 0.9814805388450623, 0.273260235786438, 0.8600283265113831, 0.07941197603940964]\n",
      "Predicted:  [0, 0, 1, 0, 1, 0, 0, 1, 1, 1, 0, 1, 0]\n",
      "Label:      [0, 0, 1, 0, 1, 0, 0, 1, 1, 1, 0, 1, 0]\n"
     ]
    },
    {
     "name": "stderr",
     "output_type": "stream",
     "text": [
      "Testing 🧐🧐: 100%|██████████| 10/10 [00:00<00:00, 44.87batch/s, loss=0.852]\n"
     ]
    },
    {
     "name": "stdout",
     "output_type": "stream",
     "text": [
      "Epoch 23, Loss: 0.3333, Accuracy: 0.8229, Test Loss: 0.4172, Test Accuracy: 0.8141\n",
      "\n",
      "writting\n"
     ]
    },
    {
     "name": "stderr",
     "output_type": "stream",
     "text": [
      "Training Epoch [24/30]: 100%|██████████| 39/39 [00:00<00:00, 40.56batch/s, loss=0.204] \n"
     ]
    },
    {
     "name": "stdout",
     "output_type": "stream",
     "text": [
      "output:  [0.3926967680454254, 0.8021866083145142, 0.181129589676857, 0.07265672087669373, 0.9973606467247009, 0.9993783235549927, 0.9128294587135315, 0.5375854969024658, 0.8885918855667114, 0.4049098491668701, 0.09333942830562592, 0.17262466251850128, 0.977253794670105]\n",
      "Predicted:  [0, 1, 0, 0, 1, 1, 1, 0, 1, 0, 0, 0, 1]\n",
      "Label:      [0, 1, 0, 0, 1, 1, 1, 1, 1, 0, 0, 0, 1]\n"
     ]
    },
    {
     "name": "stderr",
     "output_type": "stream",
     "text": [
      "Testing 🧐🧐: 100%|██████████| 10/10 [00:00<00:00, 43.95batch/s, loss=0.258]\n"
     ]
    },
    {
     "name": "stdout",
     "output_type": "stream",
     "text": [
      "Epoch 24, Loss: 0.3207, Accuracy: 0.8454, Test Loss: 0.3811, Test Accuracy: 0.8141\n",
      "\n",
      "writting\n"
     ]
    },
    {
     "name": "stderr",
     "output_type": "stream",
     "text": [
      "Training Epoch [25/30]: 100%|██████████| 39/39 [00:00<00:00, 40.98batch/s, loss=0.242]\n"
     ]
    },
    {
     "name": "stdout",
     "output_type": "stream",
     "text": [
      "output:  [0.9991194605827332, 0.45492175221443176, 0.10404015332460403, 0.07227805256843567, 0.07221783697605133, 0.6902542114257812, 0.05495072528719902, 0.246018186211586, 0.04121876507997513, 0.35206466913223267, 0.03976830095052719, 0.7909029126167297, 0.530686616897583]\n",
      "Predicted:  [1, 0, 0, 0, 0, 0, 0, 0, 0, 0, 0, 1, 0]\n",
      "Label:      [1, 1, 0, 0, 0, 1, 0, 0, 0, 0, 0, 1, 1]\n"
     ]
    },
    {
     "name": "stderr",
     "output_type": "stream",
     "text": [
      "Testing 🧐🧐: 100%|██████████| 10/10 [00:00<00:00, 45.24batch/s, loss=0.126]\n"
     ]
    },
    {
     "name": "stdout",
     "output_type": "stream",
     "text": [
      "Epoch 25, Loss: 0.3111, Accuracy: 0.8519, Test Loss: 0.3933, Test Accuracy: 0.8397\n",
      "\n",
      "writting\n"
     ]
    },
    {
     "name": "stderr",
     "output_type": "stream",
     "text": [
      "Training Epoch [26/30]: 100%|██████████| 39/39 [00:00<00:00, 39.17batch/s, loss=0.309]\n"
     ]
    },
    {
     "name": "stdout",
     "output_type": "stream",
     "text": [
      "output:  [0.020876245573163033, 0.042981021106243134, 0.9898344278335571, 0.2348484992980957, 0.9686393737792969, 0.7397156953811646, 0.6500741839408875, 0.998555600643158, 0.16361165046691895, 0.013925263658165932, 0.04571404680609703, 0.02184983529150486, 0.6749142408370972]\n",
      "Predicted:  [0, 0, 1, 0, 1, 1, 0, 1, 0, 0, 0, 0, 0]\n",
      "Label:      [0, 0, 1, 0, 1, 1, 0, 1, 1, 0, 0, 0, 1]\n"
     ]
    },
    {
     "name": "stderr",
     "output_type": "stream",
     "text": [
      "Testing 🧐🧐: 100%|██████████| 10/10 [00:00<00:00, 44.98batch/s, loss=0.3]  \n"
     ]
    },
    {
     "name": "stdout",
     "output_type": "stream",
     "text": [
      "Epoch 26, Loss: 0.3227, Accuracy: 0.8406, Test Loss: 0.4152, Test Accuracy: 0.8077\n",
      "\n",
      "writting\n"
     ]
    },
    {
     "name": "stderr",
     "output_type": "stream",
     "text": [
      "Training Epoch [27/30]: 100%|██████████| 39/39 [00:00<00:00, 40.09batch/s, loss=0.442]\n"
     ]
    },
    {
     "name": "stdout",
     "output_type": "stream",
     "text": [
      "output:  [0.9246993660926819, 0.39504557847976685, 0.2403557002544403, 0.954440176486969, 0.9954538345336914, 0.2486724555492401, 0.18787166476249695, 0.893822968006134, 0.20478056371212006, 0.4896402060985565, 0.5217936038970947, 0.9968519806861877, 0.8825557827949524]\n",
      "Predicted:  [1, 0, 0, 1, 1, 0, 0, 1, 0, 0, 0, 1, 1]\n",
      "Label:      [0, 0, 0, 1, 1, 0, 0, 1, 0, 1, 1, 1, 1]\n"
     ]
    },
    {
     "name": "stderr",
     "output_type": "stream",
     "text": [
      "Testing 🧐🧐: 100%|██████████| 10/10 [00:00<00:00, 48.34batch/s, loss=0.166]\n"
     ]
    },
    {
     "name": "stdout",
     "output_type": "stream",
     "text": [
      "Epoch 27, Loss: 0.3273, Accuracy: 0.8406, Test Loss: 0.3938, Test Accuracy: 0.8718\n",
      "\n",
      "writting\n"
     ]
    },
    {
     "name": "stderr",
     "output_type": "stream",
     "text": [
      "Training Epoch [28/30]: 100%|██████████| 39/39 [00:00<00:00, 40.79batch/s, loss=0.514] \n"
     ]
    },
    {
     "name": "stdout",
     "output_type": "stream",
     "text": [
      "output:  [0.3652936518192291, 0.9966332316398621, 0.9780914187431335, 0.6121375560760498, 0.09099599719047546, 0.18272288143634796, 0.06905370205640793, 0.9196323156356812, 0.2123349905014038, 0.3236822783946991, 0.40680429339408875, 0.9651196002960205, 0.13252104818820953]\n",
      "Predicted:  [0, 1, 1, 0, 0, 0, 0, 1, 0, 0, 0, 1, 0]\n",
      "Label:      [1, 1, 1, 1, 0, 1, 0, 1, 0, 0, 0, 1, 1]\n"
     ]
    },
    {
     "name": "stderr",
     "output_type": "stream",
     "text": [
      "Testing 🧐🧐: 100%|██████████| 10/10 [00:00<00:00, 47.66batch/s, loss=0.253]\n"
     ]
    },
    {
     "name": "stdout",
     "output_type": "stream",
     "text": [
      "Epoch 28, Loss: 0.3483, Accuracy: 0.8164, Test Loss: 0.4192, Test Accuracy: 0.8590\n",
      "\n",
      "writting\n"
     ]
    },
    {
     "name": "stderr",
     "output_type": "stream",
     "text": [
      "Training Epoch [29/30]: 100%|██████████| 39/39 [00:00<00:00, 40.13batch/s, loss=0.111]\n"
     ]
    },
    {
     "name": "stdout",
     "output_type": "stream",
     "text": [
      "output:  [0.1310863345861435, 0.9998254179954529, 0.9989284873008728, 0.17212383449077606, 0.25910478830337524, 0.11344809085130692, 0.14711987972259521, 0.014869626611471176, 0.6346204280853271, 0.9962922930717468, 0.9945268034934998, 0.04815003275871277, 0.9897846579551697]\n",
      "Predicted:  [0, 1, 1, 0, 0, 0, 0, 0, 0, 1, 1, 0, 1]\n",
      "Label:      [0, 1, 1, 0, 0, 0, 0, 0, 1, 1, 1, 0, 1]\n"
     ]
    },
    {
     "name": "stderr",
     "output_type": "stream",
     "text": [
      "Testing 🧐🧐: 100%|██████████| 10/10 [00:00<00:00, 46.31batch/s, loss=0.795]\n"
     ]
    },
    {
     "name": "stdout",
     "output_type": "stream",
     "text": [
      "Epoch 29, Loss: 0.3269, Accuracy: 0.8551, Test Loss: 0.3825, Test Accuracy: 0.8269\n",
      "\n",
      "writting\n"
     ]
    },
    {
     "name": "stderr",
     "output_type": "stream",
     "text": [
      "Training Epoch [30/30]: 100%|██████████| 39/39 [00:00<00:00, 41.12batch/s, loss=0.383] \n"
     ]
    },
    {
     "name": "stdout",
     "output_type": "stream",
     "text": [
      "output:  [0.24206271767616272, 0.9245857000350952, 0.24206271767616272, 0.9904420971870422, 0.8929724097251892, 0.9311262965202332, 0.995941698551178, 0.2023528665304184, 0.31245648860931396, 0.9984410405158997, 0.9992881417274475, 0.9991874098777771, 0.24206271767616272]\n",
      "Predicted:  [0, 1, 0, 1, 1, 1, 1, 0, 0, 1, 1, 1, 0]\n",
      "Label:      [0, 1, 1, 1, 0, 1, 1, 0, 0, 1, 1, 1, 0]\n"
     ]
    },
    {
     "name": "stderr",
     "output_type": "stream",
     "text": [
      "Testing 🧐🧐: 100%|██████████| 10/10 [00:00<00:00, 43.56batch/s, loss=0.334]\n"
     ]
    },
    {
     "name": "stdout",
     "output_type": "stream",
     "text": [
      "Epoch 30, Loss: 0.3341, Accuracy: 0.8390, Test Loss: 0.4043, Test Accuracy: 0.8654\n",
      "\n",
      "writting\n"
     ]
    }
   ],
   "source": [
    "writer = SummaryWriter(log_dir='runs/mlp')\n",
    "\n",
    "mlp_model = MLP() \n",
    "loss_fn = nn.BCELoss()\n",
    "optimizer = torch.optim.SGD(mlp_model.parameters(), lr=0.03, momentum=0.9)\n",
    "\n",
    "\n",
    "class_names = [f'{x}' for x in range(2)]\n",
    "train_loader, test_loader = load_data('thai-handwriting-number.appspot.com',class_names)\n",
    "\n",
    "device = 'cpu'\n",
    "\n",
    "mlp_history = train(\n",
    "    class_names,\n",
    "    mlp_model,\n",
    "    optimizer,\n",
    "    loss_fn,\n",
    "    train_loader,\n",
    "    test_loader,\n",
    "    epochs=30,\n",
    "    writer=writer,\n",
    "    checkpoint_path=\"checkpoints/mpl_model\",\n",
    "    device=device,\n",
    ")"
   ]
  },
  {
   "cell_type": "markdown",
   "metadata": {},
   "source": [
    "Try to load the weights into the model and the confusion matrix for each model with every combination of numbers that you've obtained, as shown in the expected output.\n",
    "\n",
    "\n",
    "<details>\n",
    "<summary>\n",
    "<font size=\"3\" color=\"orange\">\n",
    "<b>Expected output</b>\n",
    "</font>\n",
    "</summary>\n",
    "\n",
    "- The output should resemble this, but not be identical\n",
    "This is just an example of NN. You should have three models: NN, MLP, and CNN, with one model per plot.\n",
    "\n",
    "![image.png](https://github.com/Digital-Image-Processing-Laboratory/Image-Processing-Course-2025/blob/main/Lab4_NN-and-CNN/assets/09.png?raw=true)\n",
    "\n",
    "</details>"
   ]
  },
  {
   "cell_type": "code",
   "execution_count": 33,
   "metadata": {},
   "outputs": [],
   "source": [
    "### START CODE HERE ###\n",
    "\n",
    "\n",
    "\n",
    "\n",
    "\n",
    "### END CODE HERE ###"
   ]
  },
  {
   "cell_type": "markdown",
   "metadata": {},
   "source": [
    "Questions\n",
    "1. How does the performance of different models vary across different pairs of numbers in our dataset?\n",
    "2. Can you identify the number pairs where the Neural Network model performs best and worst? Explain why the NN model is able/unable to classify these specific pairs based on the visualization of feature maps of each node in each layer.\n",
    "3. Analyze and compare how MLP and CNN models perform on the dataset compared to the Neural Network model.  Identify scenarios where MLP and CNN outperform or underperform the NN. Explain the reasons behind these performance differences. Consider factors like the underlying structure of the data and the specific strengths of each model architecture.\n",
    "4. According to your observations from questions 1-3, propose specific strategies to improve the performance of each model (NN, MLP, CNN) on this dataset. Consider factors such as data preprocessing, data augmentation, or potential changes to the model architecture itself. Justify your suggestions based on the strengths and limitations identified in the previous questions.\n"
   ]
  }
 ],
 "metadata": {
  "kernelspec": {
   "display_name": "Python 3",
   "language": "python",
   "name": "python3"
  },
  "language_info": {
   "codemirror_mode": {
    "name": "ipython",
    "version": 3
   },
   "file_extension": ".py",
   "mimetype": "text/x-python",
   "name": "python",
   "nbconvert_exporter": "python",
   "pygments_lexer": "ipython3",
   "version": "3.10.6"
  }
 },
 "nbformat": 4,
 "nbformat_minor": 2
}
