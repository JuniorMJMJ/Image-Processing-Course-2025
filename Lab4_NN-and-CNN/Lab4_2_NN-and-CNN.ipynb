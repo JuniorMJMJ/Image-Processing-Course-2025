{
 "cells": [
  {
   "cell_type": "markdown",
   "metadata": {},
   "source": [
    "# **Lab 4.2 NN MLP and CNN**"
   ]
  },
  {
   "cell_type": "code",
   "execution_count": 48,
   "metadata": {},
   "outputs": [],
   "source": [
    "import torch\n",
    "import torch.nn as nn\n",
    "import torch.nn.functional as F\n",
    "from torch.cuda.amp import autocast, GradScaler\n",
    "import torchvision.transforms as transforms\n",
    "from torchvision.datasets import ImageFolder\n",
    "from torch.utils.data import DataLoader,Subset\n",
    "from torch.utils.tensorboard import SummaryWriter\n",
    "import numpy as np\n",
    "import matplotlib.pyplot as plt\n",
    "from tqdm import tqdm\n",
    "\n",
    "from sklearn.model_selection import train_test_split\n",
    "from collections import Counter\n",
    "from mpl_toolkits.axes_grid1 import ImageGrid\n"
   ]
  },
  {
   "cell_type": "markdown",
   "metadata": {},
   "source": [
    "Complete the `load_data()` function that loads the image using `ImageFolder()` with the specific `transforms.compose()` provided below.\n",
    "`load_data()` will return `DataLoader()` and print the information about the Dataset.\n",
    "This function must load only a pair of classes from the entire dataset.\n",
    "Please ensure that the final image is in grayscale and has a size of 28x28.\n",
    "\n",
    "`transforms.Compose()` :\n",
    "- `transforms.Resize(32)`\n",
    "- `transforms.ToTensor()`\n",
    "- `transforms.Pad()`\n",
    "- `transforms.RandomRotation(45),`\n",
    "- `transforms.CenterCrop(28)`\n",
    "\n",
    "Resource : [`transforms.Compose()`](https://pytorch.org/vision/main/generated/torchvision.transforms.Compose.html#compose), [`torchvision.transforms v1`](<https://pytorch.org/vision/stable/transforms.html#v1-api-reference:~:text=custom)%20tv_tensor%20type.-,V1%20API%20Reference,-Geometry>)"
   ]
  },
  {
   "cell_type": "code",
   "execution_count": 49,
   "metadata": {},
   "outputs": [],
   "source": [
    "def get_base_dataset(ds):\n",
    "    # ไล่ลึก dataset จริง (ไม่ใช่ Subset)\n",
    "    while hasattr(ds, 'dataset'):\n",
    "        ds = ds.dataset\n",
    "    return ds\n",
    "\n",
    "def show_subset_detail(subset, data_name):\n",
    "    base_ds = get_base_dataset(subset)\n",
    "\n",
    "    # ดึง mapping class_to_idx (ถ้ามี)\n",
    "    if hasattr(base_ds, 'class_to_idx'):\n",
    "        class_map = base_ds.class_to_idx\n",
    "    else:\n",
    "        class_map = {}\n",
    "\n",
    "    # ดึง labels ของ subset ตาม indices\n",
    "    if hasattr(subset, 'indices') and hasattr(base_ds, 'targets'):\n",
    "        targets = [base_ds.targets[i] for i in subset.indices]\n",
    "    elif hasattr(base_ds, 'targets'):\n",
    "        targets = base_ds.targets\n",
    "    elif hasattr(base_ds, 'labels'):\n",
    "        targets = base_ds.labels\n",
    "    else:\n",
    "        targets = []\n",
    "\n",
    "    class_counts = Counter(targets)\n",
    "\n",
    "    print(f\"{data_name} Dataset:\")\n",
    "    for label in sorted(class_counts.keys()):\n",
    "        print(f\"\\tNumber of images in class {label}: {class_counts[label]}\")\n",
    "\n",
    "    print(f\"\\tNumber of {data_name.lower()} samples: {len(subset)}\")"
   ]
  },
  {
   "cell_type": "code",
   "execution_count": 50,
   "metadata": {},
   "outputs": [],
   "source": [
    "def show_img(data_loader):\n",
    "      \n",
    "      images, labels = next(iter(data_loader))\n",
    "\n",
    "      fig = plt.figure(figsize=(10, 10))\n",
    "      plt.style.use('dark_background')\n",
    "\n",
    "      grid = ImageGrid(fig, 111,\n",
    "                        nrows_ncols=(4, 4),  \n",
    "                        axes_pad=0.5,  \n",
    "                        )\n",
    "\n",
    "      for ax, im, lb in zip(grid, images, labels):\n",
    "            im_np = im.permute(1, 2, 0).numpy()\n",
    "            ax.axis('off')\n",
    "            ax.set_title(str(lb.item()))\n",
    "            ax.imshow(im_np, cmap='gray')\n",
    "\n",
    "      plt.show()"
   ]
  },
  {
   "cell_type": "code",
   "execution_count": 98,
   "metadata": {},
   "outputs": [],
   "source": [
    "def load_data(path,class_names):\n",
    "    ### START CODE HERE ###\n",
    "    transform = transforms.Compose([\n",
    "        transforms.Grayscale(num_output_channels=1),\n",
    "        transforms.Pad(20, padding_mode='edge'),\n",
    "        transforms.Resize(32),\n",
    "        transforms.RandomRotation(25, fill=255),\n",
    "        transforms.CenterCrop(28),\n",
    "        transforms.ToTensor(),\n",
    "        transforms.Normalize(mean=[0.5], std=[0.5])\n",
    "    ])\n",
    "\n",
    "    dataset = ImageFolder(root=path, transform=transform)\n",
    "\n",
    "    class_to_idx = dataset.class_to_idx  \n",
    "    selected_class_idxs = [class_to_idx[name] for name in class_names]\n",
    "\n",
    "    indices = [i for i, (_, label) in enumerate(dataset) if label in selected_class_idxs]\n",
    "\n",
    "    filtered_dataset = Subset(dataset, indices)     # สร้าง Subset ของ dataset เฉพาะ 2 คลาสนี้\n",
    "    labels = [dataset.targets[i] for i in indices]  # ดึง label ของ subset สำหรับการแบ่ง train/test\n",
    "\n",
    "    train_idx, test_idx = train_test_split(list(range(len(filtered_dataset))), test_size=0.2, stratify=labels, random_state=42) # แบ่ง train/test โดยใช้ sklearn\n",
    "\n",
    "    train_dataset = Subset(filtered_dataset, train_idx)\n",
    "    test_dataset = Subset(filtered_dataset, test_idx)\n",
    "\n",
    "    train_loader = DataLoader(train_dataset, batch_size=16, shuffle=True)\n",
    "    test_loader = DataLoader(test_dataset, batch_size=16, shuffle=True)\n",
    "\n",
    "    show_subset_detail(train_dataset,\"Train\")\n",
    "    show_subset_detail(test_dataset,\"Test\")\n",
    "    show_img(train_loader)\n",
    "    ### END CODE HERE ###\n",
    "    \n",
    "    return train_loader, test_loader"
   ]
  },
  {
   "cell_type": "markdown",
   "metadata": {},
   "source": [
    "Use your `load_data()` function to load the dataset in the cell below. Then, display the image from the first batch.\n",
    "\n",
    "<details>\n",
    "<summary>\n",
    "<font size=\"3\" color=\"orange\">\n",
    "<b>Expected output</b>\n",
    "</font>\n",
    "</summary>\n",
    "\n",
    "- The output should resemble this, but not be identical\n",
    "\n",
    "```\n",
    "📃Train Dataset:\n",
    "\tNumber of images in class 0: 313\n",
    "\tNumber of images in class 1: 308\n",
    "\tNumber of training samples: 621\n",
    "\n",
    "📃Test Dataset:\n",
    "\tNumber of images in class 0: 75\n",
    "\tNumber of images in class 1: 81\n",
    "\tNumber of testing samples: 156\n",
    "```\n",
    "\n",
    "\n",
    "![image.png](https://github.com/Digital-Image-Processing-Laboratory/Image-Processing-Course-2025/blob/main/Lab4_NN-and-CNN/assets/03.png?raw=true)\n",
    "\n",
    "</details>"
   ]
  },
  {
   "cell_type": "code",
   "execution_count": 52,
   "metadata": {},
   "outputs": [
    {
     "name": "stdout",
     "output_type": "stream",
     "text": [
      "Train Dataset:\n",
      "\tNumber of images in class 0: 310\n",
      "\tNumber of images in class 1: 311\n",
      "\tNumber of train samples: 621\n",
      "Test Dataset:\n",
      "\tNumber of images in class 0: 78\n",
      "\tNumber of images in class 1: 78\n",
      "\tNumber of test samples: 156\n"
     ]
    },
    {
     "data": {
      "image/png": "[encoded data removed]",
      "text/plain": [
       "<Figure size 1000x1000 with 32 Axes>"
      ]
     },
     "metadata": {},
     "output_type": "display_data"
    }
   ],
   "source": [
    "### START CODE HERE ###\n",
    "class_names = [f'{x}' for x in range(2)]\n",
    "train_loader, test_loader = load_data('thai-handwriting-number.appspot.com',class_names)\n",
    "\n",
    "### END CODE HERE ###"
   ]
  },
  {
   "cell_type": "markdown",
   "metadata": {},
   "source": [
    "**Create Models**\n",
    "1. **NN (Neural Network)**:\n",
    "- **Input**: 28x28 grayscale images (1 channel)\n",
    "- **Architecture**: Single fully connected layer with sigmoid activation\n",
    "- **Output**: Single neuron output with sigmoid activation\n",
    "- **Description**: This is a simple feedforward neural network with a single fully connected layer. It takes input images, flattens them, passes through a fully connected layer, and applies sigmoid activation to produce the output.\n",
    "\n",
    "2. **MLP (Multi-Layer Perceptron)**:\n",
    "- **Input**: 28x28 grayscale images (1 channel)\n",
    "- **Architecture**: Two fully connected layers with sigmoid activations\n",
    "- **Output**: Single neuron output with sigmoid activation\n",
    "- **Description**: This is a multi-layer perceptron with two fully connected layers. After flattening the input images, it passes through the first fully connected layer with sigmoid activation, followed by the second fully connected layer with sigmoid activation, producing the output.\n",
    "\n",
    "3. **CNN (Convolutional Neural Network)**:\n",
    "- **Input**: 28x28 grayscale images (1 channel)\n",
    "- **Architecture**: Two convolutional layers with ReLU activations, followed by two fully connected layers with ReLU activations\n",
    "- **Output**: Single neuron output with sigmoid activation\n",
    "- **Description**: This is a convolutional neural network with two convolutional layers followed by two fully connected layers. It applies convolutional operations with ReLU activations, followed by flattening the output and passing through fully connected layers with ReLU activations. Finally, it produces a single neuron output with sigmoid activation.\n",
    "\n",
    "\n",
    "Every model should have a `get_features()` method that returns the result from all layers."
   ]
  },
  {
   "cell_type": "code",
   "execution_count": 148,
   "metadata": {},
   "outputs": [],
   "source": [
    "### START CODE HERE ###\n",
    "\n",
    "class NN(nn.Module):\n",
    "    def __init__(self):\n",
    "        super(NN, self).__init__()\n",
    "\n",
    "        self.flatten = nn.Flatten()\n",
    "        self.fc = nn.Linear(28*28,1)\n",
    "        self.sigmoid = nn.Sigmoid()\n",
    "\n",
    "    def get_features(self, x):\n",
    "\n",
    "        features = {}\n",
    "\n",
    "        print(x.shape)\n",
    "        features['ori'] = x.detach().cpu()\n",
    "\n",
    "        x = self.flatten(x)\n",
    "        print(x.shape)\n",
    "        features['flatten'] = x.detach().cpu()\n",
    "        \n",
    "        x = self.fc(x)\n",
    "        print(x.shape)\n",
    "        features['fc'] = x.detach().cpu()\n",
    "        print(f\"FC values: min={x.detach().cpu().min():.3f}, max={x.detach().cpu().max():.3f}\")\n",
    "\n",
    "        x = self.sigmoid(x)\n",
    "        print(x.shape)\n",
    "        features['sigmoid'] = x.detach().cpu()\n",
    "        print(f\"sigmoid values: min={x.detach().cpu().min():.3f}, max={x.detach().cpu().max():.3f}\")\n",
    "\n",
    "        return features\n",
    "\n",
    "    def forward(self, x):\n",
    "        x = self.flatten(x)\n",
    "        x = self.fc(x)\n",
    "        x = self.sigmoid(x)\n",
    "        return x\n",
    "    \n",
    "class MLP(nn.Module):\n",
    "    def __init__(self):\n",
    "        super(MLP, self).__init__()\n",
    "        \n",
    "        self.flatten = nn.Flatten()\n",
    "        self.fc1 = nn.Linear(28 * 28, 48)      # ชั้นที่ 1\n",
    "        self.sigmoid1 = nn.Sigmoid()\n",
    "        self.fc2 = nn.Linear(48, 1)            # ชั้นที่ 2 (output)\n",
    "        self.sigmoid2 = nn.Sigmoid()\n",
    "        \n",
    "    def get_features(self, x):\n",
    "        features = {}\n",
    "        \n",
    "        features['input'] = x.detach().cpu()\n",
    "        \n",
    "        x = self.flatten(x)\n",
    "        features['flatten'] = x.detach().cpu()\n",
    "        \n",
    "        x = self.fc1(x)\n",
    "        features['fc1'] = x.detach().cpu()\n",
    "        \n",
    "        x = self.sigmoid1(x)\n",
    "        features['sigmoid1'] = x.detach().cpu()\n",
    "        \n",
    "        x = self.fc2(x)\n",
    "        features['fc2'] = x.detach().cpu()\n",
    "        \n",
    "        x = self.sigmoid2(x)\n",
    "        features['sigmoid2'] = x.detach().cpu()\n",
    "        \n",
    "        return features\n",
    "\n",
    "    def forward(self, x):\n",
    "        x = self.flatten(x)\n",
    "        x = self.fc1(x)\n",
    "        x = self.sigmoid1(x)\n",
    "        x = self.fc2(x)\n",
    "        x = self.sigmoid2(x)\n",
    "        return x\n",
    "    \n",
    "class CNN(nn.Module):\n",
    "    def __init__(self):\n",
    "        super(CNN, self).__init__()\n",
    "\n",
    "        # Convolutional layers\n",
    "        self.conv1 = nn.Conv2d(1, 16, kernel_size=3, padding=1)  # (1 input channel → 16 filters)\n",
    "        self.conv2 = nn.Conv2d(16, 32, kernel_size=3, padding=1) # (16 → 32 filters)\n",
    "\n",
    "        self.pool = nn.MaxPool2d(2, 2)  # reduce spatial size\n",
    "\n",
    "        # Fully connected layers\n",
    "        self.fc1 = nn.Linear(32 * 7 * 7, 128)  # Flattened after pooling\n",
    "        self.fc2 = nn.Linear(128, 1)\n",
    "\n",
    "        self.sigmoid = nn.Sigmoid()\n",
    "\n",
    "    def get_features(self, x):\n",
    "        features = {}\n",
    "\n",
    "        features['input'] = x.detach().cpu()\n",
    "\n",
    "        x = self.conv1(x)\n",
    "        features['conv1'] = x.detach().cpu()\n",
    "        x = F.relu(x)\n",
    "\n",
    "        x = self.pool(x)\n",
    "        features['pool1'] = x.detach().cpu()\n",
    "\n",
    "        x = self.conv2(x)\n",
    "        features['conv2'] = x.detach().cpu()\n",
    "        x = F.relu(x)\n",
    "\n",
    "        x = self.pool(x)\n",
    "        features['pool2'] = x.detach().cpu()\n",
    "\n",
    "        x = x.view(x.size(0), -1)  # Flatten\n",
    "        features['flatten'] = x.detach().cpu()\n",
    "\n",
    "        x = self.fc1(x)\n",
    "        features['fc1'] = x.detach().cpu()\n",
    "        x = F.relu(x)\n",
    "\n",
    "        x = self.fc2(x)\n",
    "        features['fc2'] = x.detach().cpu()\n",
    "\n",
    "        x = self.sigmoid(x)\n",
    "        features['output'] = x.detach().cpu()\n",
    "\n",
    "        return features\n",
    "\n",
    "    def forward(self, x):\n",
    "        x = F.relu(self.conv1(x))\n",
    "        x = self.pool(x)\n",
    "        x = F.relu(self.conv2(x))\n",
    "        x = self.pool(x)\n",
    "        x = x.view(x.size(0), -1)  # Flatten\n",
    "        x = F.relu(self.fc1(x))\n",
    "        x = self.fc2(x)\n",
    "        x = self.sigmoid(x)\n",
    "        return x\n",
    "\n",
    "### END CODE HERE ###"
   ]
  },
  {
   "cell_type": "markdown",
   "metadata": {},
   "source": [
    "Complete the function below. This function will be used to display the feature map from the models at every epoch on TensorBoard.\n",
    "\n",
    "<details>\n",
    "<summary>\n",
    "<font size=\"3\" color=\"orange\">\n",
    "<b>Expected output that will be display on TensorBoard</b>\n",
    "</font>\n",
    "</summary>\n",
    "\n",
    "- The output should resemble this, but not be identical\n",
    "- `NN()`<br>\n",
    "![image.png](https://github.com/Digital-Image-Processing-Laboratory/Image-Processing-Course-2025/blob/main/Lab4_NN-and-CNN/assets/04.png?raw=true)\n",
    "- `MLP()`<br>\n",
    "![image-2.png](https://github.com/Digital-Image-Processing-Laboratory/Image-Processing-Course-2025/blob/main/Lab4_NN-and-CNN/assets/05.png?raw=true)\n",
    "- `CNN()`<br>\n",
    "![image-3.png](https://github.com/Digital-Image-Processing-Laboratory/Image-Processing-Course-2025/blob/main/Lab4_NN-and-CNN/assets/06.png?raw=true)\n",
    "</details>"
   ]
  },
  {
   "cell_type": "code",
   "execution_count": 169,
   "metadata": {},
   "outputs": [],
   "source": [
    "def show_featuremaps(features):\n",
    "    ### START CODE HERE ###\n",
    "    fig, axs = plt.subplots(1, len(features), figsize=(len(features)*3, 4))\n",
    "    plt.style.use('dark_background')\n",
    "\n",
    "    for ax, (name, feat) in zip(axs, features.items()):\n",
    "        f = feat[0].cpu().numpy()  # ใช้ sample แรก\n",
    "        print(f.ndim, f.shape[0])\n",
    "\n",
    "        if f.ndim == 3:\n",
    "            # รูปภาพต้นฉบับ (C, H, W)\n",
    "            if f.shape[0] == 1:\n",
    "                f = f[0]  # ถ้าเป็น grayscale\n",
    "                ax.imshow(f)\n",
    "            else:\n",
    "                channels = []\n",
    "                for i in range(f.shape[0]):  # วนลูป 16 channels\n",
    "                    channels.append(f[i])  # เอาแต่ละ channel (28, 28)\n",
    "                # ต่อกันแนวตั้ง (stack vertically)\n",
    "                f_stacked = np.vstack(channels)  # (16*28, 28) = (448, 28)\n",
    "                ax.imshow(f_stacked)\n",
    "\n",
    "        elif f.ndim == 1:\n",
    "            if f.shape[0] > 1:\n",
    "                ax.imshow(f.reshape(-1, 1), aspect='auto')\n",
    "            else:\n",
    "                f_display = np.array([[f.item()]])\n",
    "                ax.imshow(f_display, aspect='auto', vmin=0, vmax=1)\n",
    "\n",
    "        ax.set_title(name)\n",
    "        ax.axis('off')\n",
    "    return fig"
   ]
  },
  {
   "cell_type": "code",
   "execution_count": 171,
   "metadata": {},
   "outputs": [
    {
     "name": "stdout",
     "output_type": "stream",
     "text": [
      "torch.Size([16, 1, 28, 28])\n",
      "torch.Size([16, 784])\n",
      "torch.Size([16, 1])\n",
      "FC values: min=-0.303, max=0.031\n",
      "torch.Size([16, 1])\n",
      "sigmoid values: min=0.425, max=0.508\n",
      "3 1\n",
      "1 784\n",
      "1 1\n",
      "1 1\n"
     ]
    },
    {
     "data": {
      "image/png": "[encoded data removed]",
      "text/plain": [
       "<Figure size 1200x400 with 4 Axes>"
      ]
     },
     "metadata": {},
     "output_type": "display_data"
    }
   ],
   "source": [
    "nn_model = NN()\n",
    "data_iter = iter(train_loader)\n",
    "input_tensor, _ = next(data_iter)\n",
    "output= nn_model(input_tensor)\n",
    "features = nn_model.get_features(input_tensor) \n",
    "fig = show_featuremaps(features)\n",
    "plt.show() "
   ]
  },
  {
   "cell_type": "code",
   "execution_count": 154,
   "metadata": {},
   "outputs": [
    {
     "name": "stdout",
     "output_type": "stream",
     "text": [
      "3 1\n",
      "1 784\n",
      "1 48\n",
      "1 48\n",
      "1 1\n",
      "1 1\n"
     ]
    },
    {
     "data": {
      "image/png": "[encoded data removed]",
      "text/plain": [
       "<Figure size 1800x400 with 6 Axes>"
      ]
     },
     "metadata": {},
     "output_type": "display_data"
    }
   ],
   "source": [
    "mlp_model = MLP()\n",
    "data_iter = iter(train_loader)\n",
    "input_tensor, _ = next(data_iter)\n",
    "output= mlp_model(input_tensor)\n",
    "features = mlp_model.get_features(input_tensor) \n",
    "fig = show_featuremaps(features)\n",
    "plt.show() "
   ]
  },
  {
   "cell_type": "code",
   "execution_count": 170,
   "metadata": {},
   "outputs": [
    {
     "name": "stdout",
     "output_type": "stream",
     "text": [
      "3 1\n",
      "3 16\n",
      "3 16\n",
      "3 32\n",
      "3 32\n",
      "1 1568\n",
      "1 128\n",
      "1 1\n",
      "1 1\n"
     ]
    },
    {
     "data": {
      "image/png": "[encoded data removed]",
      "text/plain": [
       "<Figure size 2700x400 with 9 Axes>"
      ]
     },
     "metadata": {},
     "output_type": "display_data"
    }
   ],
   "source": [
    "cnn_model = CNN()\n",
    "data_iter = iter(train_loader)\n",
    "input_tensor, _ = next(data_iter)\n",
    "output= cnn_model(input_tensor)\n",
    "features = cnn_model.get_features(input_tensor) \n",
    "fig = show_featuremaps(features)\n",
    "plt.show() "
   ]
  },
  {
   "cell_type": "markdown",
   "metadata": {},
   "source": [
    "TensorBoard 101\n",
    "\n",
    "Complete the `train()` function in the cell below. This function should evaluate the model at every epoch, log the training loss/accuracy, test loss/accuracy, and display the feature map from all layers of the model at every epoch on TensorBoard. Additionally, it should save the model at the last epoch.\n",
    "\n",
    "Resource : [PyTorch Training loop](<https://pytorch.org/tutorials/beginner/introyt/trainingyt.html#:~:text=%3D0.9)-,The%20Training%20Loop,-Below%2C%20we%20have>), [TensorBoard](https://pytorch.org/docs/stable/tensorboard.html)\n",
    "\n",
    "<details>\n",
    "<summary>\n",
    "<font size=\"3\" color=\"orange\">\n",
    "<b>Expected output that will be display on TensorBoard</b>\n",
    "</font>\n",
    "</summary>\n",
    "\n",
    "- The output should resemble this, but not be identical\n",
    "\n",
    "![image.png](https://github.com/Digital-Image-Processing-Laboratory/Image-Processing-Course-2025/blob/main/Lab4_NN-and-CNN/assets/07.png?raw=true)\n",
    "\n",
    "![image-2.png](https://github.com/Digital-Image-Processing-Laboratory/Image-Processing-Course-2025/blob/main/Lab4_NN-and-CNN/assets/08.png?raw=true)\n",
    "</details>"
   ]
  },
  {
   "cell_type": "code",
   "execution_count": 58,
   "metadata": {},
   "outputs": [
    {
     "ename": "SyntaxError",
     "evalue": "incomplete input (1995350030.py, line 10)",
     "output_type": "error",
     "traceback": [
      "\u001b[1;36m  Cell \u001b[1;32mIn[58], line 10\u001b[1;36m\u001b[0m\n\u001b[1;33m    ### END CODE HERE ###\u001b[0m\n\u001b[1;37m                         ^\u001b[0m\n\u001b[1;31mSyntaxError\u001b[0m\u001b[1;31m:\u001b[0m incomplete input\n"
     ]
    }
   ],
   "source": [
    "def train(class_names,model,opt,loss_fn,train_loader,test_loader,epochs=10,writer=None,checkpoint_path=None,device='cpu'):\n",
    "    ### START CODE HERE ###\n",
    "\n",
    "\n",
    "\n",
    "\n",
    "\n",
    "\n",
    "\n",
    "    ### END CODE HERE ###"
   ]
  },
  {
   "cell_type": "markdown",
   "metadata": {},
   "source": [
    "Use your `train()` function to train all types of models with all combinations of numbers that you've obtained."
   ]
  },
  {
   "cell_type": "code",
   "execution_count": null,
   "metadata": {},
   "outputs": [],
   "source": [
    "### START CODE HERE ###\n",
    "\n",
    "\n",
    "\n",
    "### END CODE HERE ###"
   ]
  },
  {
   "cell_type": "markdown",
   "metadata": {},
   "source": [
    "Try to load the weights into the model and the confusion matrix for each model with every combination of numbers that you've obtained, as shown in the expected output.\n",
    "\n",
    "\n",
    "<details>\n",
    "<summary>\n",
    "<font size=\"3\" color=\"orange\">\n",
    "<b>Expected output</b>\n",
    "</font>\n",
    "</summary>\n",
    "\n",
    "- The output should resemble this, but not be identical\n",
    "This is just an example of NN. You should have three models: NN, MLP, and CNN, with one model per plot.\n",
    "\n",
    "![image.png](https://github.com/Digital-Image-Processing-Laboratory/Image-Processing-Course-2025/blob/main/Lab4_NN-and-CNN/assets/09.png?raw=true)\n",
    "\n",
    "</details>"
   ]
  },
  {
   "cell_type": "code",
   "execution_count": null,
   "metadata": {},
   "outputs": [],
   "source": [
    "### START CODE HERE ###\n",
    "\n",
    "\n",
    "\n",
    "\n",
    "\n",
    "### END CODE HERE ###"
   ]
  },
  {
   "cell_type": "markdown",
   "metadata": {},
   "source": [
    "Questions\n",
    "1. How does the performance of different models vary across different pairs of numbers in our dataset?\n",
    "2. Can you identify the number pairs where the Neural Network model performs best and worst? Explain why the NN model is able/unable to classify these specific pairs based on the visualization of feature maps of each node in each layer.\n",
    "3. Analyze and compare how MLP and CNN models perform on the dataset compared to the Neural Network model.  Identify scenarios where MLP and CNN outperform or underperform the NN. Explain the reasons behind these performance differences. Consider factors like the underlying structure of the data and the specific strengths of each model architecture.\n",
    "4. According to your observations from questions 1-3, propose specific strategies to improve the performance of each model (NN, MLP, CNN) on this dataset. Consider factors such as data preprocessing, data augmentation, or potential changes to the model architecture itself. Justify your suggestions based on the strengths and limitations identified in the previous questions.\n"
   ]
  }
 ],
 "metadata": {
  "kernelspec": {
   "display_name": "Python 3",
   "language": "python",
   "name": "python3"
  },
  "language_info": {
   "codemirror_mode": {
    "name": "ipython",
    "version": 3
   },
   "file_extension": ".py",
   "mimetype": "text/x-python",
   "name": "python",
   "nbconvert_exporter": "python",
   "pygments_lexer": "ipython3",
   "version": "3.10.6"
  }
 },
 "nbformat": 4,
 "nbformat_minor": 2
}
